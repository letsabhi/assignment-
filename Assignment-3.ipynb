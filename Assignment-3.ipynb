{
 "cells": [
  {
   "cell_type": "markdown",
   "id": "4ecb1bac-f314-4b33-ab93-39ff1e366fb0",
   "metadata": {},
   "source": [
    "# Question  1\n",
    "## Q1. Create a python program to sort the given list of tuples based on integer value using a\n",
    "### lambda function. [('Sachin Tendulkar', 34357), ('Ricky Ponting', 27483), ('Jack Kallis', 25534), ('Virat Kohli', 24936)]\n"
   ]
  },
  {
   "cell_type": "code",
   "execution_count": 26,
   "id": "3896a18a-ed84-4507-afb2-9de2b88900be",
   "metadata": {},
   "outputs": [],
   "source": [
    "L = [('Sachin Tendulkar', 34357), ('Ricky Ponting', 27483), ('Jack Kallis', 25534), ('Virat Kohli', 24936)]\n"
   ]
  },
  {
   "cell_type": "code",
   "execution_count": 29,
   "id": "4606b32c-f038-4f96-ae6e-8c9d9e9dbf6f",
   "metadata": {},
   "outputs": [],
   "source": [
    "Sorted_L = sorted(L, key = lambda i: i[1])\n"
   ]
  },
  {
   "cell_type": "code",
   "execution_count": 30,
   "id": "19166f6c-fa62-432d-ab80-3fd970ea872e",
   "metadata": {},
   "outputs": [
    {
     "data": {
      "text/plain": [
       "[('Virat Kohli', 24936),\n",
       " ('Jack Kallis', 25534),\n",
       " ('Ricky Ponting', 27483),\n",
       " ('Sachin Tendulkar', 34357)]"
      ]
     },
     "execution_count": 30,
     "metadata": {},
     "output_type": "execute_result"
    }
   ],
   "source": [
    "Sorted_L"
   ]
  },
  {
   "cell_type": "markdown",
   "id": "f0dd0d31-58c2-4d55-92c0-7243daa62943",
   "metadata": {},
   "source": [
    "# Q2. Write a Python Program to find the squares of all the numbers in the given list of integers using\n",
    "lambda and map functions.\n",
    "[1, 2, 3, 4, 5, 6, 7, 8, 9, 10]"
   ]
  },
  {
   "cell_type": "code",
   "execution_count": 32,
   "id": "85c8b79d-27fe-4474-b51d-67fb070a257b",
   "metadata": {},
   "outputs": [
    {
     "data": {
      "text/plain": [
       "100"
      ]
     },
     "execution_count": 32,
     "metadata": {},
     "output_type": "execute_result"
    }
   ],
   "source": [
    "def squ(x): \n",
    "    return x**2\n",
    "squ(10)"
   ]
  },
  {
   "cell_type": "code",
   "execution_count": 45,
   "id": "a35e8568-c8f7-4edc-82d8-836e16580c96",
   "metadata": {},
   "outputs": [
    {
     "name": "stdout",
     "output_type": "stream",
     "text": [
      "[1, 4, 9, 16, 25, 36, 49, 64, 81, 100]\n"
     ]
    }
   ],
   "source": [
    "l1 = [1, 2, 3, 4, 5, 6, 7, 8, 9, 10]\n",
    "l = list(map(lambda x: x**2, l1))\n",
    "print(l)"
   ]
  },
  {
   "cell_type": "markdown",
   "id": "43b72dcf-bef7-4e1b-bc4a-909e8ca05630",
   "metadata": {},
   "source": [
    "# Q3. Write a python program to convert the given list of integers into a tuple of strings. Use map and lambda functions\n",
    "## Given String: [1, 2, 3, 4, 5, 6, 7, 8, 9, 10] Expected output: ('1', '2', '3', '4', '5', '6', '7', '8', '9', '10')"
   ]
  },
  {
   "cell_type": "code",
   "execution_count": 48,
   "id": "971ca95d-a932-41f0-b6c0-33c2cd2e9d49",
   "metadata": {},
   "outputs": [
    {
     "data": {
      "text/plain": [
       "['1', '2', '3', '4', '5', '6', '7', '8', '9', '10']"
      ]
     },
     "execution_count": 48,
     "metadata": {},
     "output_type": "execute_result"
    }
   ],
   "source": [
    "l = [1, 2, 3, 4, 5, 6, 7, 8, 9, 10]\n",
    "strlist = list(map(lambda x:str(x), l))\n",
    "strlist"
   ]
  },
  {
   "cell_type": "markdown",
   "id": "9abc3c65-64b0-4203-9b50-74de893c1896",
   "metadata": {},
   "source": [
    "# Q4. Write a python program using reduce function to compute the product of a list containing numbers from 1 to 25."
   ]
  },
  {
   "cell_type": "code",
   "execution_count": 58,
   "id": "296e5e14-4715-462f-a14e-b0afbca0a29c",
   "metadata": {},
   "outputs": [
    {
     "data": {
      "text/plain": [
       "15511210043330985984000000"
      ]
     },
     "execution_count": 58,
     "metadata": {},
     "output_type": "execute_result"
    }
   ],
   "source": [
    "l= []\n",
    "for i in range(1,26):\n",
    "    l.append(i)\n",
    "from functools import reduce \n",
    "mul = reduce(lambda x, y : x*y, l)\n",
    "mul"
   ]
  },
  {
   "cell_type": "markdown",
   "id": "a0f7d682-5cf3-4a28-a4ed-162a488e1d4a",
   "metadata": {},
   "source": [
    "# Q5. Write a python program to filter the numbers in a given list that are divisible by 2 and 3 using the\n",
    "filter function. [2, 3, 6, 9, 27, 60, 90, 120, 55, 46]"
   ]
  },
  {
   "cell_type": "code",
   "execution_count": 75,
   "id": "6e7e67e3-a27c-482c-a7d0-e79650256e0c",
   "metadata": {},
   "outputs": [],
   "source": [
    "l1 = [2, 3, 6, 9, 27, 60, 90, 120, 55, 46]\n"
   ]
  },
  {
   "cell_type": "code",
   "execution_count": 76,
   "id": "abc6c61d-541d-421d-9063-5eee633457f8",
   "metadata": {},
   "outputs": [
    {
     "data": {
      "text/plain": [
       "[2, 3, 6, 9, 27, 60, 90, 120, 55, 46]"
      ]
     },
     "execution_count": 76,
     "metadata": {},
     "output_type": "execute_result"
    }
   ],
   "source": [
    "l1\n"
   ]
  },
  {
   "cell_type": "markdown",
   "id": "263308ef-d415-41cc-bf79-0851115977f7",
   "metadata": {},
   "source": [
    "list(filter(lambda x : (x%2 == 0 and x% 3 ==0),l1))"
   ]
  },
  {
   "cell_type": "markdown",
   "id": "e6ec94b4-dd2c-4668-8e4f-4b483a06ef34",
   "metadata": {},
   "source": [
    "# Q6. Write a python program to find palindromes in the given list of strings using lambda and filter\n",
    "function.\n",
    "['python', 'php', 'aba', 'radar', 'level']"
   ]
  },
  {
   "cell_type": "code",
   "execution_count": 97,
   "id": "ea7e009f-8daa-4da5-94b0-1bd9eabb9916",
   "metadata": {},
   "outputs": [
    {
     "data": {
      "text/plain": [
       "<filter at 0x7fdd1a61f580>"
      ]
     },
     "execution_count": 97,
     "metadata": {},
     "output_type": "execute_result"
    }
   ],
   "source": [
    "l = ['python', 'php', 'aba', 'radar', 'level']\n",
    "filter(lambda x: x == x[::-1],l)"
   ]
  },
  {
   "cell_type": "code",
   "execution_count": null,
   "id": "797f9b27-b166-4896-8c9d-5d9a570857eb",
   "metadata": {},
   "outputs": [],
   "source": []
  },
  {
   "cell_type": "code",
   "execution_count": null,
   "id": "6898538d-22e2-48f7-bb67-ed5d0b6b229f",
   "metadata": {},
   "outputs": [],
   "source": []
  },
  {
   "cell_type": "code",
   "execution_count": null,
   "id": "0c2c66d6-a0d5-4f93-9aed-67c258a35f4d",
   "metadata": {},
   "outputs": [],
   "source": []
  }
 ],
 "metadata": {
  "kernelspec": {
   "display_name": "Python 3 (ipykernel)",
   "language": "python",
   "name": "python3"
  },
  "language_info": {
   "codemirror_mode": {
    "name": "ipython",
    "version": 3
   },
   "file_extension": ".py",
   "mimetype": "text/x-python",
   "name": "python",
   "nbconvert_exporter": "python",
   "pygments_lexer": "ipython3",
   "version": "3.10.8"
  }
 },
 "nbformat": 4,
 "nbformat_minor": 5
}
