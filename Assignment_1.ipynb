{
 "cells": [
  {
   "cell_type": "markdown",
   "id": "fed23cdc-d52e-41a9-b433-8bda7a494679",
   "metadata": {},
   "source": [
    "# Q1. What are the characteristics of the tuples? Is tuple immutable?\n",
    "## Answer 1\n",
    "## Tuples are defined in the same way as lists. They are enclosed within parenthesis and not within square braces. Tuples are ordered, indexed collections of data. Similar to string indices, the first value in the tuple will have the index [0], the second value [1] Negative indices are counted from the end of the tuple, just like lists. Tuple also has the same structure where commas separate the values. Tuples can store duplicate values. Tuples allow you to store several data items including string, integer, float in one variable. The basic difference between a list and a tuple is that lists are mutable in nature whereas, tuples are immutable.\n",
    "\n"
   ]
  },
  {
   "cell_type": "markdown",
   "id": "dcd80878-9b3e-4a88-8940-d3d05bad906f",
   "metadata": {},
   "source": [
    "# Q2. What are the two tuple methods in python? Give an example of each method. Give a reason why tuples have only two in-built methods as compared to Lists.\n",
    "## Answer 2 Method\tDescription\n",
    "## count()\tReturns the number of times a specified value occurs in a tuple\n",
    "## index()\tSearches the tuple for a specified value and returns the position of where it was found\n",
    "\n",
    "## list content are mutable but tuple is immutable\n"
   ]
  },
  {
   "cell_type": "markdown",
   "id": "781d7eda-f73b-444c-ba59-219c2a4a6bb1",
   "metadata": {},
   "source": [
    "# Q3. Which collection datatypes in python do not allow duplicate items? Write a code using a set to remove\n",
    "duplicates from the given list.\n",
    "List = [1, 1, 1, 2, 1, 3, 1, 4, 2, 1, 2, 2, 2, 3, 2, 4, 3, 1, 3, 2, 3, 3, 3, 4, 4, 1, 4, 2, 4, 3, 4, 4]\n",
    "\n",
    "Answer 3\n",
    "\tSet elements are unique. Duplicate elements are not allowed.\n",
    "\tDictionary does not allow duplicate\n",
    "\n",
    "List = [1, 1, 1, 2, 1, 3, 1, 4, 2, 1, 2, 2, 2, 3, 2, 4, 3, 1, 3, 2, 3, 3, 3, 4, 4, 1, 4, 2, 4, 3, 4, 4]\n"
   ]
  },
  {
   "cell_type": "code",
   "execution_count": 5,
   "id": "41373429-0aca-4726-8555-c6fc56643694",
   "metadata": {},
   "outputs": [
    {
     "data": {
      "text/plain": [
       "{1, 2, 3, 4}"
      ]
     },
     "execution_count": 5,
     "metadata": {},
     "output_type": "execute_result"
    }
   ],
   "source": [
    "List = [1, 1, 1, 2, 1, 3, 1, 4, 2, 1, 2, 2, 2, 3, 2, 4, 3, 1, 3, 2, 3, 3, 3, 4, 4, 1, 4, 2, 4, 3, 4, 4]\n",
    "# Convert the list to a set\n",
    "\n",
    "set2 = set(List)\n",
    "set2\n",
    "\n"
   ]
  },
  {
   "cell_type": "markdown",
   "id": "058eaf34-3ab9-4ac6-ae71-480d7e5cdca9",
   "metadata": {},
   "source": [
    "# Q4. Explain the difference between the union() and update() methods for a set. Give an example of each method.\n",
    "Answer \n",
    "\n"
   ]
  },
  {
   "cell_type": "code",
   "execution_count": 6,
   "id": "a8b52f6b-6563-4661-9b68-1e3a3e4530f9",
   "metadata": {},
   "outputs": [
    {
     "name": "stdout",
     "output_type": "stream",
     "text": [
      "{8, 9, 6, 7}\n",
      "{3, 4, 5, 6, 7, 8, 9}\n"
     ]
    }
   ],
   "source": [
    "# update() function add multiple elements into the set\n",
    "x = {6,7,8,9}\n",
    "print(x)\n",
    "x.update({3,4,5})\n",
    "print(x)\n"
   ]
  },
  {
   "cell_type": "code",
   "execution_count": 7,
   "id": "56b53f33-09ac-442a-a123-609589b88453",
   "metadata": {},
   "outputs": [
    {
     "data": {
      "text/plain": [
       "{1, 2, 3, 4, 5, 6, 7, 8, 9}"
      ]
     },
     "execution_count": 7,
     "metadata": {},
     "output_type": "execute_result"
    }
   ],
   "source": [
    "# union function , perform union of 2 sets \n",
    "x = {3, 4, 5, 6, 7, 8, 9}\n",
    "y ={1,2}\n",
    "x.union(y)\n",
    "\n"
   ]
  },
  {
   "cell_type": "markdown",
   "id": "717f78d5-10fd-46c3-92ae-b66393269e50",
   "metadata": {},
   "source": [
    "# Q5. What is a dictionary? Give an example. Also, state whether a dictionary is ordered or unordered.\n",
    "# Answer 5\n",
    "Dictionaries are used to store data values in key:value pairs. A dictionary is a collection which is ordered, changeable or mutable and do not allow duplicates. Dictionary items are ordered, changeable, and does not allow duplicates.\n",
    "x = {'key1': 1, \"key2\":2, \"key\":3}\n",
    "\n",
    "dictionary is ordered collection element\n"
   ]
  },
  {
   "cell_type": "markdown",
   "id": "3b550ecb-3456-4cf5-8d9a-1762a6072dd0",
   "metadata": {},
   "source": [
    "# Q6. \tCan we create a nested dictionary? If so, please give an example by creating a simple one-level nested dictionary.\n",
    "\n",
    "Answer \n",
    "\tIn nested dictionary we can declare a dictionary inside the dictionary. \n"
   ]
  },
  {
   "cell_type": "code",
   "execution_count": 9,
   "id": "5da6d2a4-6193-481a-a71c-9ab67e530695",
   "metadata": {},
   "outputs": [],
   "source": [
    "x = {\"key1\":1, \"key2\":2,\"key3\" : {\"key3\":4, \"key5\":6}}"
   ]
  },
  {
   "cell_type": "code",
   "execution_count": 10,
   "id": "7bde04aa-422d-4ebb-96f9-d0187b8f69ff",
   "metadata": {},
   "outputs": [
    {
     "data": {
      "text/plain": [
       "{'key1': 1, 'key2': 2, 'key3': {'key3': 4, 'key5': 6}}"
      ]
     },
     "execution_count": 10,
     "metadata": {},
     "output_type": "execute_result"
    }
   ],
   "source": [
    "x"
   ]
  },
  {
   "cell_type": "markdown",
   "id": "5d0e984f-f83e-411a-9720-dad018945827",
   "metadata": {},
   "source": [
    "# Q7. \tUsing setdefault() method, create key named topics in the given dictionary and also add the value of the key as this list ['Python', 'Machine Learning’, 'Deep Learning']"
   ]
  },
  {
   "cell_type": "code",
   "execution_count": 11,
   "id": "226679aa-be0d-42d3-9f7f-ab228a4615b7",
   "metadata": {},
   "outputs": [],
   "source": [
    "dict1 = {'language' : 'Python', 'course': 'Data Science Masters'}\n",
    "dict1 = {'language' : 'Python', 'course': 'Data Science Masters'}\n"
   ]
  },
  {
   "cell_type": "code",
   "execution_count": 12,
   "id": "6f1e63cf-9094-4a2f-88b8-9ab67375355e",
   "metadata": {},
   "outputs": [
    {
     "data": {
      "text/plain": [
       "{'language': 'Python', 'course': 'Data Science Masters'}"
      ]
     },
     "execution_count": 12,
     "metadata": {},
     "output_type": "execute_result"
    }
   ],
   "source": [
    "dict1\n"
   ]
  },
  {
   "cell_type": "markdown",
   "id": "51a89512-be47-453b-91e6-43652cf05dcf",
   "metadata": {},
   "source": [
    "# Question \n",
    "What are the three view objects in dictionaries? Use the three in-built methods in python to display these three view objects for the given dictionary.\n",
    "dict1 = {'Sport': 'Cricket' , 'Teams': ['India', 'Australia', 'England', 'South Africa', 'Sri Lanka', 'New Zealand']}\n",
    "Answer \n"
   ]
  },
  {
   "cell_type": "code",
   "execution_count": 13,
   "id": "c920d7d4-1ead-4abf-9dc3-e38feb17982f",
   "metadata": {},
   "outputs": [
    {
     "name": "stdout",
     "output_type": "stream",
     "text": [
      "dict_keys(['language', 'course'])\n"
     ]
    },
    {
     "data": {
      "text/plain": [
       "dict_keys"
      ]
     },
     "execution_count": 13,
     "metadata": {},
     "output_type": "execute_result"
    }
   ],
   "source": [
    "dict1\n",
    "s = dict1.keys()\n",
    "print(s)\n",
    "type(s)\n"
   ]
  },
  {
   "cell_type": "code",
   "execution_count": 14,
   "id": "b61cd148-b9a6-4e1c-bb51-f9e902309287",
   "metadata": {},
   "outputs": [
    {
     "name": "stdout",
     "output_type": "stream",
     "text": [
      "dict_values(['Python', 'Data Science Masters'])\n"
     ]
    },
    {
     "data": {
      "text/plain": [
       "dict_values"
      ]
     },
     "execution_count": 14,
     "metadata": {},
     "output_type": "execute_result"
    }
   ],
   "source": [
    "s1 =dict1.values()\n",
    "print(s1)\n",
    "type(s1)\n"
   ]
  },
  {
   "cell_type": "code",
   "execution_count": 15,
   "id": "37b78f74-4bde-4d25-836b-5c792c6c756a",
   "metadata": {},
   "outputs": [
    {
     "name": "stdout",
     "output_type": "stream",
     "text": [
      "dict_items([('language', 'Python'), ('course', 'Data Science Masters')])\n"
     ]
    },
    {
     "data": {
      "text/plain": [
       "dict_items"
      ]
     },
     "execution_count": 15,
     "metadata": {},
     "output_type": "execute_result"
    }
   ],
   "source": [
    "s2= dict1.items()\n",
    "print(s2)\n",
    "type(s2)\n"
   ]
  },
  {
   "cell_type": "code",
   "execution_count": null,
   "id": "1791d9d1-73ab-4a44-a2b9-b2a0d3434ddb",
   "metadata": {},
   "outputs": [],
   "source": []
  }
 ],
 "metadata": {
  "kernelspec": {
   "display_name": "Python 3 (ipykernel)",
   "language": "python",
   "name": "python3"
  },
  "language_info": {
   "codemirror_mode": {
    "name": "ipython",
    "version": 3
   },
   "file_extension": ".py",
   "mimetype": "text/x-python",
   "name": "python",
   "nbconvert_exporter": "python",
   "pygments_lexer": "ipython3",
   "version": "3.10.8"
  }
 },
 "nbformat": 4,
 "nbformat_minor": 5
}
