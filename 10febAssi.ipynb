{
 "cells": [
  {
   "cell_type": "markdown",
   "id": "e24a5765-513e-4cbd-978f-30ec7fcc24e5",
   "metadata": {},
   "source": [
    "### Q1. Which function is used to open a file? What are the different modes of opening a file? Explain each mode of file opening."
   ]
  },
  {
   "cell_type": "markdown",
   "id": "db850740-830b-4582-94df-c380cbd31e00",
   "metadata": {},
   "source": [
    "#### To read a text file in Python, you follow these steps: First, open a text file for reading by using the open() function Second, read text from the text file using the file read(), readline(), or readlines() method of the file object. Third, close the file using the file close() method. This frees up resources and  ensures consistency across different python versions.\n",
    "## ===============================================================\n",
    "## Character Meaning \n",
    "* 'r'       open for reading (default)\n",
    "* 'w'       open for writing, truncating the file first\n",
    "* 'x'       create a new file and open it for writing\n",
    "* 'a'       open for writing, appending to the end of the file if it exists\n",
    "* 'b'       binary mode\n",
    "* 't'       text mode (default)\n",
    "* '+'       open a disk file for updating (reading and writing)\n",
    "* 'U'       universal newline mode (deprecated)\n",
    "* ========= "
   ]
  },
  {
   "cell_type": "code",
   "execution_count": null,
   "id": "402553a0-a1de-447f-a25e-a304e5c23259",
   "metadata": {},
   "outputs": [],
   "source": [
    "# Reading the txt file\n",
    "file = open(\"pcr_file.txt\", \"w\")\n"
   ]
  },
  {
   "cell_type": "code",
   "execution_count": null,
   "id": "3b250ac8-ff56-4d19-a35b-5e0e671b3a1c",
   "metadata": {},
   "outputs": [],
   "source": [
    "file.write(\"Babban ki ma ki\")\n"
   ]
  },
  {
   "cell_type": "code",
   "execution_count": null,
   "id": "78543533-fe4b-4653-8e64-df515b821088",
   "metadata": {},
   "outputs": [],
   "source": [
    "file.close()\n"
   ]
  },
  {
   "cell_type": "markdown",
   "id": "42a388bf-7225-4956-85f4-ae1b6f721969",
   "metadata": {},
   "source": [
    "## Question 2 Why close() function is used? Why is it important to close a file?"
   ]
  },
  {
   "cell_type": "markdown",
   "id": "60a24379-d287-4675-ac1d-9c23b0487ad4",
   "metadata": {},
   "source": [
    "#### The close function make the status of the file as close and also used for saving the file"
   ]
  },
  {
   "cell_type": "markdown",
   "id": "bebf7892-25b9-40f9-ae2e-46d9a2ac94ba",
   "metadata": {},
   "source": [
    "#### Q3. Write a python program to create a text file. Write ‘I want to become a Data Scientist’ in that file. Then close the file. Open this file and read the content of the file."
   ]
  },
  {
   "cell_type": "markdown",
   "id": "d2ab80a7-af88-4fe1-a91c-d5ca54a02dc4",
   "metadata": {},
   "source": [
    "file = open(\"text.txt\", 'w')\n",
    "file.write('i want to become a data scienctist ')\n",
    "file.write('\\n')\n",
    "file.write(' its a very difficult to become a data scienctist')\n",
    "file.write('\\n')\n",
    "file.write(' its a very difficult to become a data scienctist')\n",
    "file.write('\\n')\n",
    "file.write(' its a very difficult to become a data scienctist')\n",
    "\n",
    "file.close()\n",
    "file= open('text.txt','r')\n",
    "data = file.read()\n",
    "#data = file.seek(0)\n",
    "#data = file.readlines()\n",
    "data"
   ]
  },
  {
   "cell_type": "markdown",
   "id": "fe885fbb-c1bf-4ce6-b6ef-49e3806abfb5",
   "metadata": {},
   "source": [
    "#### Q4. Explain the following with python code: read(), readline() and readlines()."
   ]
  },
  {
   "cell_type": "markdown",
   "id": "d895a190-ce6e-43f3-985c-83f504cc5fb2",
   "metadata": {},
   "source": [
    "#### Ans:  python read will read the entire file. readline() function is going to read one line from the file. The readlines() can read multiple lines from file"
   ]
  },
  {
   "cell_type": "markdown",
   "id": "9319b826-0ee7-43a9-930b-621634f9630b",
   "metadata": {},
   "source": [
    "### Q5. Explain why with statement is used with open(). What is the advantage of using with statement and open() together?"
   ]
  },
  {
   "cell_type": "markdown",
   "id": "c783f267-8833-425e-8b78-25f356091793",
   "metadata": {},
   "source": [
    "#### The with statement works with the open() function to open a file.\n",
    "#### So, you can re-write the code we used in the open() function example like this: Unlike open() where you have to close the file with the close() method, the with statement closes the file for you without you telling it to. This is because the with statement calls 2 built-in methods behind the scene – __enter()__ and __exit()__.\n"
   ]
  },
  {
   "cell_type": "code",
   "execution_count": 47,
   "id": "6289ce2e-8053-4617-a2ce-16f2dd197b1c",
   "metadata": {},
   "outputs": [
    {
     "name": "stdout",
     "output_type": "stream",
     "text": [
      "i want to become a data scienctist \n",
      " its a very difficult to become a data scienctist\n",
      " its a very difficult to become a data scienctist\n",
      " its a very difficult to become a data scienctist\n"
     ]
    }
   ],
   "source": [
    "with open('text.txt') as file:\n",
    "    print(file.read())\n"
   ]
  },
  {
   "cell_type": "code",
   "execution_count": 52,
   "id": "a991af36-277a-4d65-afa1-dff2b41638a0",
   "metadata": {},
   "outputs": [
    {
     "name": "stdout",
     "output_type": "stream",
     "text": [
      "Hello world \n",
      "I hope you're doing well today \n",
      "This is a text file \n",
      "Have a nice time \n",
      "\n"
     ]
    }
   ],
   "source": [
    "with open(\"text.txt\", \"w\") as file:\n",
    "    file.write(\"Hello world \\n\")\n",
    "    file.write(\"I hope you're doing well today \\n\")\n",
    "    file.write(\"This is a text file \\n\")\n",
    "    file.write(\"Have a nice time \\n\")\n",
    "\n",
    "with open(\"text.txt\") as file:\n",
    "    print(file.read())"
   ]
  },
  {
   "cell_type": "markdown",
   "id": "2dea0a7f-c186-48f0-bf00-5350327d5d4f",
   "metadata": {},
   "source": [
    "### Q6. Explain the write() and writelines() functions. Give a suitable example."
   ]
  },
  {
   "cell_type": "markdown",
   "id": "cc35f1b1-3d1b-4e40-a257-68192ddb3b36",
   "metadata": {},
   "source": [
    "### The write() method accepts a string as an argument and writes this string to the text file. Whereas, the writelines() method accepts an iterable i.e. a string or the list of strings as an argument and writes these strings to the text file. If you provide a list of strings to the write() method, then it will raise an exception."
   ]
  },
  {
   "cell_type": "code",
   "execution_count": 56,
   "id": "41e0150a-8cdb-4031-a207-56dd5cda39f0",
   "metadata": {},
   "outputs": [
    {
     "ename": "UnsupportedOperation",
     "evalue": "not readable",
     "output_type": "error",
     "traceback": [
      "\u001b[0;31m---------------------------------------------------------------------------\u001b[0m",
      "\u001b[0;31mUnsupportedOperation\u001b[0m                      Traceback (most recent call last)",
      "Cell \u001b[0;32mIn[56], line 13\u001b[0m\n\u001b[1;32m     11\u001b[0m new_file \u001b[38;5;241m=\u001b[39m \u001b[38;5;28mopen\u001b[39m(\u001b[38;5;124m\"\u001b[39m\u001b[38;5;124mtext1.txt\u001b[39m\u001b[38;5;124m\"\u001b[39m, \u001b[38;5;124m'\u001b[39m\u001b[38;5;124mw\u001b[39m\u001b[38;5;124m'\u001b[39m)\n\u001b[1;32m     12\u001b[0m new_file\u001b[38;5;241m.\u001b[39mwritelines(full_string)\n\u001b[0;32m---> 13\u001b[0m data \u001b[38;5;241m=\u001b[39m \u001b[43mnew_file\u001b[49m\u001b[38;5;241;43m.\u001b[39;49m\u001b[43mread\u001b[49m\u001b[43m(\u001b[49m\u001b[43m)\u001b[49m\n\u001b[1;32m     14\u001b[0m new_file\u001b[38;5;241m.\u001b[39mclose()\n\u001b[1;32m     15\u001b[0m new_file \n",
      "\u001b[0;31mUnsupportedOperation\u001b[0m: not readable"
     ]
    }
   ],
   "source": [
    "# Writelines function\n",
    "\n",
    "first_string = \"Hello\"\n",
    "second_string = \"World!\"\n",
    "third_string = \"I am \"\n",
    "fourth_string = \"learning\"\n",
    "fifth_string = \"Python\"\n",
    "\n",
    "full_string = [first_string, second_string, third_string, fourth_string, fifth_string]\n",
    "\n",
    "new_file = open(\"text1.txt\", 'w')\n",
    "new_file.writelines(full_string)\n",
    "new_file = open(\"text1.txt\", 'r')\n",
    "data = new_file.read()\n",
    "new_file.close()\n",
    "new_file \n"
   ]
  },
  {
   "cell_type": "code",
   "execution_count": null,
   "id": "dea59a8e-380d-4f73-bae0-4f9ac7cb7550",
   "metadata": {},
   "outputs": [],
   "source": []
  }
 ],
 "metadata": {
  "kernelspec": {
   "display_name": "Python 3 (ipykernel)",
   "language": "python",
   "name": "python3"
  },
  "language_info": {
   "codemirror_mode": {
    "name": "ipython",
    "version": 3
   },
   "file_extension": ".py",
   "mimetype": "text/x-python",
   "name": "python",
   "nbconvert_exporter": "python",
   "pygments_lexer": "ipython3",
   "version": "3.10.8"
  }
 },
 "nbformat": 4,
 "nbformat_minor": 5
}
