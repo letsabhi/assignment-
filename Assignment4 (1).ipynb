{
 "cells": [
  {
   "cell_type": "markdown",
   "id": "257c750c-8d3e-48cc-a2cf-874566b27341",
   "metadata": {},
   "source": [
    "# Q1. Explain Class and Object with respect to Object-Oriented Programming. Give a suitable example.\n",
    "## Any real world entity can be expressed as class. Class is blue print of real world entity. Class consist of\n",
    "## Data member and member function. An instnace of the class is called an object."
   ]
  },
  {
   "cell_type": "markdown",
   "id": "de805245-657f-4324-81a3-504c5f90cc62",
   "metadata": {},
   "source": [
    "# Name the four pillars of OOPs.\n",
    "## The four pillars of oops are \n",
    "## Abstraction, Encapsulation , Polymorphisam, Inheritance, \n",
    "## Abstaction hides the detals and implementation \n",
    "## Encaposulation is binding of data and a function as a single unit.\n",
    "## Polymorphisam is same nae of a function but different behaviours, Inheritance "
   ]
  },
  {
   "cell_type": "markdown",
   "id": "ca797234-b419-4715-8035-4ad1da6fbce2",
   "metadata": {},
   "source": [
    "# Q3. Explain why the __init__() function is used. Give a suitable example.\n",
    "## init function is used as constructor. This is used to intialized the value of data member in the class.\n",
    "## constructor is the progrma auotomatially invoked when class object is crrated."
   ]
  },
  {
   "cell_type": "code",
   "execution_count": 6,
   "id": "f665d7ff-1bfa-487f-8c6b-b10e70849c78",
   "metadata": {},
   "outputs": [
    {
     "name": "stdout",
     "output_type": "stream",
     "text": [
      "4\n",
      "5\n"
     ]
    }
   ],
   "source": [
    "class data:\n",
    "    def __init__(self, a,b):\n",
    "         self.a = a\n",
    "         self.b=b\n",
    "val = data(4,5)\n",
    "print(val.a)\n",
    "print(val.b)"
   ]
  },
  {
   "cell_type": "markdown",
   "id": "35cea33e-3591-4edb-ae16-39ad4070254e",
   "metadata": {},
   "source": [
    "##Q4. Why self is used in OOPs?\n",
    "* self is used to refer to the object that invokes the funtion or to assign the value."
   ]
  },
  {
   "cell_type": "markdown",
   "id": "435c6811-b5e3-45e6-ab11-2fa9115a690a",
   "metadata": {},
   "source": [
    "## iInheritance is the property by one class can inherit the data member and member function of class.\n",
    "## This leads to reusability of the code\n"
   ]
  },
  {
   "cell_type": "code",
   "execution_count": 8,
   "id": "fed45f79-47d0-45a8-85bc-16687be78e6a",
   "metadata": {},
   "outputs": [
    {
     "name": "stdout",
     "output_type": "stream",
     "text": [
      "Rahul  Singh\n"
     ]
    }
   ],
   "source": [
    "class person:\n",
    "    def __init__(self, fname, lname):\n",
    "        self.firstname = fname\n",
    "        self.lastname = lname\n",
    "    def display(self):\n",
    "        print(self.firstname, self.lastname )\n",
    "    \n",
    "p1 = person(\"Rahul \", \"Singh\")\n",
    "p1.display()"
   ]
  },
  {
   "cell_type": "markdown",
   "id": "ad8be189-fdf3-4c5a-b6a2-a4de1d5271fc",
   "metadata": {},
   "source": [
    "## To create a child class we need to pass the parent class as the parameter "
   ]
  },
  {
   "cell_type": "code",
   "execution_count": 11,
   "id": "34961b31-e7ae-4138-be71-781530d6ec52",
   "metadata": {},
   "outputs": [
    {
     "name": "stdout",
     "output_type": "stream",
     "text": [
      "vijay dennanath chouhan\n"
     ]
    }
   ],
   "source": [
    "class student(person):\n",
    "    pass\n",
    "s1 = student(\"vijay\", \"dennanath chouhan\")\n",
    "s1.display()"
   ]
  },
  {
   "cell_type": "code",
   "execution_count": null,
   "id": "3fcabf19-137b-4958-8dbd-dc4391d1cdb4",
   "metadata": {},
   "outputs": [],
   "source": []
  }
 ],
 "metadata": {
  "kernelspec": {
   "display_name": "Python 3 (ipykernel)",
   "language": "python",
   "name": "python3"
  },
  "language_info": {
   "codemirror_mode": {
    "name": "ipython",
    "version": 3
   },
   "file_extension": ".py",
   "mimetype": "text/x-python",
   "name": "python",
   "nbconvert_exporter": "python",
   "pygments_lexer": "ipython3",
   "version": "3.10.8"
  }
 },
 "nbformat": 4,
 "nbformat_minor": 5
}
