{
 "cells": [
  {
   "cell_type": "markdown",
   "id": "b8a6560c-86ba-4996-ae19-51913e91d7c7",
   "metadata": {
    "tags": []
   },
   "source": [
    "## the keyword used to create the function is def "
   ]
  },
  {
   "cell_type": "code",
   "execution_count": 3,
   "id": "2604ee30-8e05-4c7c-91a9-d33941c0b61d",
   "metadata": {},
   "outputs": [
    {
     "data": {
      "text/plain": [
       "[1, 3, 5, 7, 9, 11, 13, 15, 17, 19, 21, 23]"
      ]
     },
     "execution_count": 3,
     "metadata": {},
     "output_type": "execute_result"
    }
   ],
   "source": [
    "def fun1():\n",
    "    l = []\n",
    "    for i in range(1,25):\n",
    "        if i%2==1:\n",
    "           l.append(i)\n",
    "    return l\n",
    "\n",
    "fun1()\n"
   ]
  },
  {
   "cell_type": "markdown",
   "id": "908f47cc-a881-45ae-b4f4-4e2f3f50d794",
   "metadata": {},
   "source": [
    "## Answer 2 \n",
    "### *args is used to pass any number of parameter to a function. When a function can tke any number of arguments then * args is used  the return type for *args is a tuple **kwargs is i used when arguments to a function is associated with key value also"
   ]
  },
  {
   "cell_type": "code",
   "execution_count": 18,
   "id": "033545f6-6a27-4411-bd6f-f839d4135da6",
   "metadata": {},
   "outputs": [
    {
     "name": "stdout",
     "output_type": "stream",
     "text": [
      "5\n",
      "0\n"
     ]
    },
    {
     "data": {
      "text/plain": [
       "[]"
      ]
     },
     "execution_count": 18,
     "metadata": {},
     "output_type": "execute_result"
    }
   ],
   "source": [
    "def test(*args):\n",
    "    l= []\n",
    "    for i in args:\n",
    "        if type(i) == int: \n",
    "            l.append(i)\n",
    "    print (len(l))\n",
    "    return l\n",
    "\n",
    "test(1,2,2,3,4,\"sudh\")\n",
    "\n",
    "test(\"devide\", \"ravi\",\"sudh\")\n",
    "\n",
    "        \n",
    "        "
   ]
  },
  {
   "cell_type": "code",
   "execution_count": 25,
   "id": "7d367d17-361a-4e10-9b80-763f5102437e",
   "metadata": {},
   "outputs": [
    {
     "name": "stdout",
     "output_type": "stream",
     "text": [
      "5\n"
     ]
    },
    {
     "data": {
      "text/plain": [
       "[1, 2, 2, 3, 4]"
      ]
     },
     "execution_count": 25,
     "metadata": {},
     "output_type": "execute_result"
    }
   ],
   "source": [
    "def test1(**kwargs):\n",
    "    l= []\n",
    "    for i in kwargs:\n",
    "        if type(kwargs[i]) == int: \n",
    "            l.append(kwargs[i])\n",
    "    print (len(l))\n",
    "    return l\n",
    "\n",
    "test1(a= 1,b= 2,c=2,d = 3,e = 4,f= \"sudh\")\n",
    "\n",
    "#test1(a = \"devide\",b =  \"ravi\",c = \"sudh\")"
   ]
  },
  {
   "cell_type": "markdown",
   "id": "8e880127-1cce-4636-ae5c-0235b2766552",
   "metadata": {},
   "source": [
    "# Answer 2\n",
    "\n",
    "### An iterator is an object that contains a countable number of values.\n",
    "### An iterator is an object that can be iterated upon, meaning that you can traverse through all the values.\n",
    "### Technically, in Python, an iterator is an object which implements the iterator protocol, which consist of the methods __iter__() and __next__()."
   ]
  },
  {
   "cell_type": "code",
   "execution_count": 28,
   "id": "99d07a5d-76b5-48fa-83d1-64e99a584864",
   "metadata": {},
   "outputs": [
    {
     "name": "stdout",
     "output_type": "stream",
     "text": [
      "2\n",
      "4\n",
      "6\n",
      "8\n",
      "10\n"
     ]
    }
   ],
   "source": [
    "l = [2, 4, 6, 8, 10, 12, 14, 16,18, 20]\n",
    "\n",
    "itr = iter(l)\n",
    "\n",
    "print(next(itr))\n",
    "print(next(itr))\n",
    "print(next(itr))\n",
    "print(next(itr))\n",
    "print(next(itr))"
   ]
  },
  {
   "cell_type": "markdown",
   "id": "6b63c56f-8cde-45da-a4d9-ddc40eeedee6",
   "metadata": {},
   "source": [
    "# Answwer 3\n",
    "### Python generators are the functions that return tha traversal object and a simple way of creating iterators. It traverses the entire items at once.\n",
    "### The generator can alos be an expression in which syntax is smilar to the list comprehension in python.\n",
    "### It is a lenghty process to create iterators. That is why the generator \n",
    "### plays a significant role in simplfying this process. If there is no value found in iteration, it raises StopIteration exception.\n",
    "### It is similar to the normal function defined by the def keyword and employs a yield keyword instead of\n",
    "### return. If the body of any function includes a yield statement, it automatically becomes a generator function.\n",
    "### The yield keyword is responsibel to control the flow of the generator function.\n",
    "### It pauses the function execution by saving all states and yielded to the caller.\n",
    "### Later it resumes execution when a successive function is called."
   ]
  },
  {
   "cell_type": "code",
   "execution_count": 35,
   "id": "aa530426-2799-4d3d-8467-b89b59556187",
   "metadata": {},
   "outputs": [
    {
     "name": "stdout",
     "output_type": "stream",
     "text": [
      "[0, 2, 4, 6, 8]\n"
     ]
    }
   ],
   "source": [
    "def function():\n",
    "    for i in range(10):\n",
    "        if i%2==0:\n",
    "            yield i\n",
    "list = []\n",
    "for i in function():\n",
    "    list.append(i)\n",
    "\n",
    "print(list)"
   ]
  },
  {
   "cell_type": "markdown",
   "id": "a4dc6f9a-6bd9-4f65-a948-266e827a228d",
   "metadata": {},
   "source": [
    "# Answer 5"
   ]
  },
  {
   "cell_type": "code",
   "execution_count": 134,
   "id": "cdba7f55-858b-4402-8b9c-180d78e0dc9e",
   "metadata": {},
   "outputs": [
    {
     "name": "stdout",
     "output_type": "stream",
     "text": [
      "2\n",
      "3\n",
      "5\n",
      "7\n",
      "11\n",
      "13\n",
      "17\n",
      "19\n",
      "23\n",
      "29\n",
      "31\n",
      "37\n",
      "41\n",
      "43\n",
      "47\n",
      "53\n",
      "59\n",
      "61\n",
      "67\n",
      "71\n",
      "73\n",
      "79\n",
      "83\n",
      "89\n",
      "97\n",
      "101\n",
      "103\n",
      "107\n",
      "109\n",
      "113\n",
      "127\n",
      "131\n",
      "137\n",
      "139\n",
      "149\n",
      "151\n",
      "157\n",
      "163\n",
      "167\n",
      "173\n",
      "179\n",
      "181\n",
      "191\n",
      "193\n",
      "197\n",
      "199\n",
      "211\n",
      "223\n",
      "227\n",
      "229\n",
      "233\n",
      "239\n",
      "241\n",
      "251\n",
      "257\n",
      "263\n",
      "269\n",
      "271\n",
      "277\n",
      "281\n",
      "283\n",
      "293\n",
      "307\n",
      "311\n",
      "313\n",
      "317\n",
      "331\n",
      "337\n",
      "347\n",
      "349\n",
      "353\n",
      "359\n",
      "367\n",
      "373\n",
      "379\n",
      "383\n",
      "389\n",
      "397\n",
      "401\n",
      "409\n",
      "419\n",
      "421\n",
      "431\n",
      "433\n",
      "439\n",
      "443\n",
      "449\n",
      "457\n",
      "461\n",
      "463\n",
      "467\n",
      "479\n",
      "487\n",
      "491\n",
      "499\n",
      "503\n",
      "509\n",
      "521\n",
      "523\n",
      "541\n"
     ]
    }
   ],
   "source": [
    "import math \n",
    "def prime(n):\n",
    "    flag =0\n",
    "    for i in range(2, n):\n",
    "        if n%i == 0:\n",
    "            flag = 1\n",
    "    return flag\n",
    "\"\"\"\n",
    "   if flag == 1:\n",
    "        print(\"Not prime number\")\n",
    "    else:\n",
    "        print(\"Prime number\")\n",
    "\"\"\"\n",
    "    \n",
    "\n",
    "def function():\n",
    "    for i in range(2, 1000):\n",
    "        if prime(i)==0:\n",
    "          #  print(i)\n",
    "            yield i\n",
    "    \n",
    "\n",
    "itr = iter(function())\n",
    "for i in range(100):\n",
    "    print(next(itr))\n"
   ]
  },
  {
   "cell_type": "code",
   "execution_count": null,
   "id": "97dcb009-d7a5-42ba-bddf-ebcfc558bc64",
   "metadata": {},
   "outputs": [],
   "source": []
  }
 ],
 "metadata": {
  "kernelspec": {
   "display_name": "Python 3 (ipykernel)",
   "language": "python",
   "name": "python3"
  },
  "language_info": {
   "codemirror_mode": {
    "name": "ipython",
    "version": 3
   },
   "file_extension": ".py",
   "mimetype": "text/x-python",
   "name": "python",
   "nbconvert_exporter": "python",
   "pygments_lexer": "ipython3",
   "version": "3.10.8"
  }
 },
 "nbformat": 4,
 "nbformat_minor": 5
}
