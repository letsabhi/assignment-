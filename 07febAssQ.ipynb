{
 "cells": [
  {
   "cell_type": "markdown",
   "id": "f693f231-5bd3-4fb7-a213-05ed95ea272d",
   "metadata": {},
   "source": [
    "### Q1. You are writing code for a company. The requirement of the company is that you create a python function that will check whether the password entered by the user is correct or not. The function should take the password as input and return the string “Valid Password” if the entered password follows the below-given password guidelines else it should return “Invalid Password”. \n",
    "# Note: \n",
    "1. The Password should contain at least two uppercase letters and at least two lowercase letters.\n",
    "2. The Password should contain at least a number and three special characters.\n",
    "3. The length of the password should be 10 characters long."
   ]
  },
  {
   "cell_type": "code",
   "execution_count": 26,
   "id": "28e26a50-5ffe-40f4-8741-a13146cb6cea",
   "metadata": {},
   "outputs": [
    {
     "name": "stdout",
     "output_type": "stream",
     "text": [
      "Password is invalid\n",
      "The Password should contain at least two uppercase letters and at least two lowercase letters.\n",
      "The Password should contain at least a number and three special characters.\n",
      "The length of the password should be 10 characters long.\n",
      "4\n",
      "1\n",
      "3\n",
      "True\n",
      "1\n"
     ]
    }
   ],
   "source": [
    "\n",
    "def valid(s):\n",
    "    low = 0\n",
    "    Upp = 0\n",
    "    Spcl =0\n",
    "    is10 = True\n",
    "    nu =0\n",
    "    for i in s:\n",
    "        if i.islower() == True:\n",
    "            low = low + 1\n",
    "        elif i.isupper() == True:\n",
    "            Upp = Upp + 1\n",
    "        elif i.isnumeric() == True:\n",
    "            nu = nu+1\n",
    "        elif i.isalnum()== False:\n",
    "            Spcl = Spcl+1\n",
    "        elif s.len() ==10:\n",
    "            is10 = False\n",
    "    if low >=2 and Upp >=2 and nu>=1 and Spcl ==3 and is10:\n",
    "            print(\"Valid password\")\n",
    "    else:\n",
    "        print(\"Password is invalid\")\n",
    "        print(\"The Password should contain at least two uppercase letters and at least two lowercase letters.\\nThe Password should contain at least a number and three special characters.\\nThe length of the password should be 10 characters long.\")\n",
    "    \n",
    "    print(low)\n",
    "    print(Upp)\n",
    "    print(Spcl)\n",
    "    print(is10)\n",
    "    print(nu)\n",
    "valid(\"Auu1@@@as\")\n",
    " "
   ]
  },
  {
   "cell_type": "markdown",
   "id": "8fbfe9c6-6b3a-48b8-acbe-87eca8731d87",
   "metadata": {},
   "source": [
    "# Qestion 2. \n",
    "Solve the below-given questions using at least one of the following:\n",
    "1. Lambda functio\n",
    "2. Filter functio\n",
    "3. Map functio\n",
    "4. List Comprehensio\n",
    "#### * Check if the string starts with a particular letter\n",
    "#### * Check if the string is numericY\n",
    "#### * Sort a list of tuples having fruit names and their quantity. [(\"mango\",99),(\"orange\",80), (\"grapes\", 1000)]\n",
    "#### * Find the squares of numbers from 1 to 10\n",
    "#### * Find the cube root of numbers from 1 to 10\n",
    "#### * Check if a given number is even\n",
    "#### * Filter odd numbers from the given list. [1,2,3,4,5,6,7,8,9,10]\n",
    "#### * Sort a list of integers into positive and negative integers lists. [1,2,3,4,5,6,-1,-2,-3,-4,-5,0]"
   ]
  },
  {
   "cell_type": "code",
   "execution_count": null,
   "id": "a1eae841-1dd6-41cc-9b07-499546720708",
   "metadata": {},
   "outputs": [],
   "source": [
    "# Check if the string starts with a particular letter\n",
    "a = lambda s: print(\"true\") if s[0] == 'd' else print(\"false\")\n",
    "a(\"data science\")\n"
   ]
  },
  {
   "cell_type": "code",
   "execution_count": 43,
   "id": "1cdd2c90-e738-4699-ad9a-e467a07c560c",
   "metadata": {},
   "outputs": [
    {
     "data": {
      "text/plain": [
       "True"
      ]
     },
     "execution_count": 43,
     "metadata": {},
     "output_type": "execute_result"
    }
   ],
   "source": [
    "# Check if the string is numeric\n",
    "a = lambda s: s.isnumeric()\n",
    "a(\"1234\")"
   ]
  },
  {
   "cell_type": "code",
   "execution_count": 69,
   "id": "bcc704ca-307c-4c10-b7ef-2054c035bf00",
   "metadata": {},
   "outputs": [
    {
     "data": {
      "text/plain": [
       "[('grapes', 1000), ('mango', 99), ('orange', 80)]"
      ]
     },
     "execution_count": 69,
     "metadata": {},
     "output_type": "execute_result"
    }
   ],
   "source": [
    "# Sort a list of tuples having fruit names and their quantity. [(\"mango\",99),(\"orange\",80), (\"grapes\", 1000)]\n",
    "L = [(\"mango\",99),(\"orange\",80), (\"grapes\", 1000)]\n",
    "Sorted_L = sorted(L, key = lambda i: i[0])\n",
    "\n",
    "Sorted_L"
   ]
  },
  {
   "cell_type": "code",
   "execution_count": 75,
   "id": "d3c82fd1-580b-4d9b-9776-927c859b67a0",
   "metadata": {},
   "outputs": [
    {
     "name": "stdout",
     "output_type": "stream",
     "text": [
      "[1, 4, 9, 16, 25, 36, 49, 64, 81, 100]\n"
     ]
    }
   ],
   "source": [
    "# find the squares of numbers from 1 to 10\n",
    "L = [1,2,3,4,5,6,7,8,9,10]\n",
    "sqaure = list(map(lambda a:a**2,L))\n",
    "print(sqaure)"
   ]
  },
  {
   "cell_type": "code",
   "execution_count": 76,
   "id": "1a201b06-1ceb-4463-a2b2-be95a7ca5dfc",
   "metadata": {},
   "outputs": [
    {
     "name": "stdout",
     "output_type": "stream",
     "text": [
      "[1, 8, 27, 64, 125, 216, 343, 512, 729, 1000]\n"
     ]
    }
   ],
   "source": [
    "# find cube of the number from 1 to 10 \n",
    "L = [1,2,3,4,5,6,7,8,9,10]\n",
    "sqaure = list(map(lambda a:a**3,L))\n",
    "print(sqaure)"
   ]
  },
  {
   "cell_type": "code",
   "execution_count": 80,
   "id": "51e6f7da-8445-4c29-a74a-df52194529e4",
   "metadata": {},
   "outputs": [
    {
     "name": "stdout",
     "output_type": "stream",
     "text": [
      "Even Number\n",
      "Odd number\n"
     ]
    }
   ],
   "source": [
    "# Check if a given number is even\n",
    "num = lambda a : print(\"Even Number\") if a%2==0 else print(\"Odd number\")\n",
    "num(10)\n",
    "num(11)"
   ]
  },
  {
   "cell_type": "code",
   "execution_count": 82,
   "id": "21b97e73-7961-42bd-bca0-da15d4d947fb",
   "metadata": {},
   "outputs": [
    {
     "data": {
      "text/plain": [
       "[1, 3, 5, 7, 9]"
      ]
     },
     "execution_count": 82,
     "metadata": {},
     "output_type": "execute_result"
    }
   ],
   "source": [
    "#Filter odd numbers from the given list.\n",
    "l = [1,2,3,4,5,6,7,8,9,10]\n",
    "odd =list(filter(lambda a: a%2 ==1, l))\n",
    "odd"
   ]
  },
  {
   "cell_type": "code",
   "execution_count": 96,
   "id": "2cd7e781-eea9-44e1-bd93-ffea8e68feed",
   "metadata": {},
   "outputs": [
    {
     "name": "stdout",
     "output_type": "stream",
     "text": [
      "[0, 1, 2, 3, 4, 5, 6]\n",
      "[-5, -4, -3, -2, -1]\n"
     ]
    }
   ],
   "source": [
    " # Sort a list of integers into positive and negative integers lists. [1,2,3,4,5,6,-1,-2,-3,-4,-5,0]\n",
    "L = [1,2,3,4,5,6,-1,-2,-3,-4,-5,0]\n",
    "positive = list(filter(lambda a : a>=0, L))\n",
    "positive.sort() \n",
    "print(positive)\n",
    "negative = list(filter(lambda a : a<0, L))\n",
    "negative.sort() \n",
    "print(negative) "
   ]
  },
  {
   "cell_type": "code",
   "execution_count": null,
   "id": "60ab16a6-16fe-4127-91ee-c2f2444705ea",
   "metadata": {},
   "outputs": [],
   "source": []
  },
  {
   "cell_type": "code",
   "execution_count": null,
   "id": "675c8ba3-1c2e-441b-96a8-a7de3c7ed07a",
   "metadata": {},
   "outputs": [],
   "source": []
  }
 ],
 "metadata": {
  "kernelspec": {
   "display_name": "Python 3 (ipykernel)",
   "language": "python",
   "name": "python3"
  },
  "language_info": {
   "codemirror_mode": {
    "name": "ipython",
    "version": 3
   },
   "file_extension": ".py",
   "mimetype": "text/x-python",
   "name": "python",
   "nbconvert_exporter": "python",
   "pygments_lexer": "ipython3",
   "version": "3.10.8"
  }
 },
 "nbformat": 4,
 "nbformat_minor": 5
}
