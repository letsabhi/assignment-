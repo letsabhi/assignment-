{
 "cells": [
  {
   "cell_type": "markdown",
   "id": "6ff3d2cd-19fd-44d8-ae57-0ad19e9255bc",
   "metadata": {},
   "source": [
    "# What is multithreading in python? hy is it used? Name the module used to handle threads in python"
   ]
  },
  {
   "cell_type": "markdown",
   "id": "0b4cc7e7-9ec4-4ce6-85cb-0d2b36dbef7e",
   "metadata": {},
   "source": [
    "#### A thread is the smallest unit of a program or process executed independently or scheduled by the Operating System. In the computer system, an Operating System achieves multitasking by dividing the process into threads. A thread is a lightweight process that ensures the execution of the process separately on the system. In Python 3, when multiple processors are running on a program, each processor runs simultaneously to execute its tasks separately.\n",
    "#### The module that here are two main modules of multithreading used to handle threads in Python. The thread module The threading module\n"
   ]
  },
  {
   "cell_type": "markdown",
   "id": "51c46a5d-30f2-4012-8c77-2e1fe08463d7",
   "metadata": {},
   "source": [
    "#### Why threading module used? rite the use of the following functions \n",
    "* (activeCount  currentThread  enumerate)"
   ]
  },
  {
   "cell_type": "markdown",
   "id": "d5319189-11b9-4315-a7b6-e355872f786b",
   "metadata": {},
   "source": [
    "#### The threading module exposes all the methods of the thread module and provides some additional methods −\n",
    "\n",
    "* threading.activeCount() − Returns the number of thread objects that are active.\n",
    "* threading.currentThread() − Returns the number of thread objects in the caller's thread control.\n",
    "* threading.enumerate() − Returns a list of all thread objects that are currently active."
   ]
  },
  {
   "cell_type": "markdown",
   "id": "4a0a42c6-ceb0-4d85-a2f3-50677350a63e",
   "metadata": {},
   "source": [
    "#### 3. Explain the following functions\n",
    "* run\n",
    "* start\n",
    "* join\n",
    "* isAlive"
   ]
  },
  {
   "cell_type": "markdown",
   "id": "52fc63fb-7acd-45c2-bcf3-bcf76fd079a6",
   "metadata": {},
   "source": [
    "#### We can then start executing the thread by calling the start() function. The start() function will return immediately and the operating system will execute the function in a separate thread as soon as it is able.\n",
    "\n",
    "#### Join method: It is a join() method used in the thread class to halt the main thread's execution and waits till the complete execution of the thread object. When the thread object is completed, it starts the execution of the main thread in Python.\n",
    "#### The .is_alive() method returns True if the thread is still running and False, otherwise."
   ]
  },
  {
   "cell_type": "markdown",
   "id": "41344074-e6c7-4a0f-ba6a-f1e9ec6f162c",
   "metadata": {},
   "source": [
    "### 4. Write a python program to create two threads. Thread one must print the list of squares and thread two must print the list of cubes"
   ]
  },
  {
   "cell_type": "markdown",
   "id": "4ed8cf99-c68b-4e7b-8d6e-979987007362",
   "metadata": {},
   "source": [
    "#### Question 4 Write a python program to create two threads. Thread one must print the list of squares and thread two must print the list of cubes"
   ]
  },
  {
   "cell_type": "code",
   "execution_count": 46,
   "id": "7706e372-8b4b-45d0-bbd1-885fc5ee8068",
   "metadata": {},
   "outputs": [
    {
     "name": "stdout",
     "output_type": "stream",
     "text": [
      "The value of 0 to the power 2 is 0\n",
      "The value of 0 to the power 3 is 0\n",
      "The value of 0 to the power 4 is 0\n",
      "The value of 1 to the power 2 is 1\n",
      "The value of 1 to the power 3 is 1\n",
      "The value of 1 to the power 4 is 1\n",
      "The value of 2 to the power 2 is 4\n",
      "The value of 2 to the power 3 is 8\n",
      "The value of 2 to the power 4 is 16\n",
      "The value of 3 to the power 2 is 9\n",
      "The value of 3 to the power 3 is 27\n",
      "The value of 3 to the power 4 is 81\n",
      "The value of 4 to the power 2 is 16\n",
      "The value of 4 to the power 3 is 64\n",
      "The value of 4 to the power 4 is 256\n",
      "The value of 5 to the power 2 is 25\n",
      "The value of 5 to the power 3 is 125\n",
      "The value of 5 to the power 4 is 625\n",
      "The value of 6 to the power 2 is 36\n",
      "The value of 6 to the power 3 is 216\n",
      "The value of 6 to the power 4 is 1296\n",
      "The value of 7 to the power 2 is 49\n",
      "The value of 7 to the power 3 is 343\n",
      "The value of 7 to the power 4 is 2401\n",
      "The value of 8 to the power 2 is 64\n",
      "The value of 8 to the power 3 is 512\n",
      "The value of 8 to the power 4 is 4096\n",
      "The value of 9 to the power 2 is 81\n",
      "The value of 9 to the power 3 is 729\n",
      "The value of 9 to the power 4 is 6561\n"
     ]
    }
   ],
   "source": [
    "import time\n",
    "import threading\n",
    "def test(x):\n",
    "    for i in range(10):\n",
    "        print(\"The value of {} to the power {} is\".format(i,x),i**x)\n",
    "        time.sleep(1)\n",
    "thred = [threading.Thread(target= test, args= (i,)) for i in [2,3,4]]\n",
    "for t in thred:\n",
    "    t.start()\n",
    "   "
   ]
  },
  {
   "cell_type": "markdown",
   "id": "6ccbfecf-a518-444d-b935-952ab464d79a",
   "metadata": {},
   "source": [
    "### State advantages and disadvantages of multithreading"
   ]
  },
  {
   "cell_type": "markdown",
   "id": "b7cd0edd-d278-44cb-ba9b-7b05fdefc394",
   "metadata": {},
   "source": [
    "#### The advantage of multithreading \n",
    "* Responsiveness\n",
    "* Resource Sharin\n",
    "* Economy\n",
    "* Scalability "
   ]
  },
  {
   "cell_type": "markdown",
   "id": "565542c7-c62d-475e-811e-2556ff5312c5",
   "metadata": {},
   "source": [
    "#### disadvantage of Multithreaing\n",
    "* Difficulty of writing code. Multithreaded and multicontexted applications are not easy to write. ...\n",
    "* Difficulty of debugging. ...\n",
    "* Difficulty of managing concurrency. ...\n",
    "* Difficulty of testing. ...\n",
    "* Difficulty of porting existing code."
   ]
  },
  {
   "cell_type": "markdown",
   "id": "21d3b79c-b33d-4ae3-b506-1f8d71814a74",
   "metadata": {},
   "source": [
    "#### Question Explain deadlocks and race conditions."
   ]
  },
  {
   "cell_type": "markdown",
   "id": "155b79fe-c5fa-4032-9253-3791dd1db05a",
   "metadata": {},
   "source": [
    "#### A deadlock is a situation where a set of processes are blocked because each process is holding a resource and waiting for another resource acquired by some other process. A race condition is a situation that develops when many threads share a resource or execute the same piece of code in a multithreaded context. Inappropriate handling of this might result in an unfavorable scenario where the output state depends on the threads execution order.\n",
    "#### A race condition is a situation that develops when many threads share a resource or execute the same piece of code in a multithreaded context. Inappropriate handling of this might result in an unfavorable scenario where the output state depends on the threads execution order."
   ]
  },
  {
   "cell_type": "code",
   "execution_count": null,
   "id": "007e524a-dfae-4454-83ea-cadbe2843773",
   "metadata": {},
   "outputs": [],
   "source": []
  }
 ],
 "metadata": {
  "kernelspec": {
   "display_name": "Python 3 (ipykernel)",
   "language": "python",
   "name": "python3"
  },
  "language_info": {
   "codemirror_mode": {
    "name": "ipython",
    "version": 3
   },
   "file_extension": ".py",
   "mimetype": "text/x-python",
   "name": "python",
   "nbconvert_exporter": "python",
   "pygments_lexer": "ipython3",
   "version": "3.10.8"
  }
 },
 "nbformat": 4,
 "nbformat_minor": 5
}
