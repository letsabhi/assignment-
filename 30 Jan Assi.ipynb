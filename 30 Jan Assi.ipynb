{
 "cells": [
  {
   "cell_type": "markdown",
   "id": "017523af-af14-4ef6-a487-8ba2bbc43bf6",
   "metadata": {},
   "source": [
    "# Question 1\n",
    "#### Write a program to accept percentage from the user and display the grade according to the following criteria:"
   ]
  },
  {
   "cell_type": "code",
   "execution_count": 9,
   "id": "029bf295-b67b-4dd7-943b-4244d477ff7f",
   "metadata": {},
   "outputs": [
    {
     "name": "stdin",
     "output_type": "stream",
     "text": [
      "Enter the percentage 40\n"
     ]
    },
    {
     "name": "stdout",
     "output_type": "stream",
     "text": [
      "Your grade is D\n"
     ]
    }
   ],
   "source": [
    "grade = int(input(\"Enter the percentage\"))\n",
    "if grade > 90:\n",
    "    print(\"Your grade is A\")\n",
    "elif grade > 80 and grade<=90:\n",
    "        print(\"Your grade is B\")\n",
    "elif grade > 60 and grade<=80:\n",
    "        print(\"Your grade is C\")\n",
    "elif grade <=60:\n",
    "        print(\"Your grade is D\")\n",
    "\n",
    "    \n",
    "    "
   ]
  },
  {
   "cell_type": "markdown",
   "id": "8415b529-0660-4230-994b-04c7629fb390",
   "metadata": {},
   "source": [
    "# Question 2\n",
    "####  Write a program to accept the cost price of a bike and display the road tax to be paid according to the following criteria:"
   ]
  },
  {
   "cell_type": "code",
   "execution_count": 29,
   "id": "1d56b75d-7f00-4178-96ed-35581d9551a1",
   "metadata": {},
   "outputs": [
    {
     "name": "stdin",
     "output_type": "stream",
     "text": [
      "Please enter the cost of the Bike 1000\n"
     ]
    },
    {
     "name": "stdout",
     "output_type": "stream",
     "text": [
      "The road tax is:50.0\n"
     ]
    }
   ],
   "source": [
    "Bike_cost = int(input(\"Please enter the cost of the Bike\"))\n",
    "if Bike_cost > 100000:\n",
    "      print(\"The road tax is: {} \".format(Bike_cost*0.15) )\n",
    "elif Bike_cost > 50000 and Bike_cost<=100000:\n",
    "    print(\"The road tax is: {} \".format(Bike_cost*0.10) )\n",
    "elif Bike_cost<=50000:\n",
    "    print(\"The road tax is:{}\".format(Bike_cost*0.05))\n",
    "\n",
    "        "
   ]
  },
  {
   "cell_type": "markdown",
   "id": "a0475a62-35f3-4ca2-a3f8-49f2d85f7cd9",
   "metadata": {},
   "source": [
    "# Question 3\n",
    "#### Accept any city from the user and display monuments at that city."
   ]
  },
  {
   "cell_type": "code",
   "execution_count": 42,
   "id": "9492d475-22d8-47d8-8a13-50a3acea63c1",
   "metadata": {},
   "outputs": [
    {
     "name": "stdin",
     "output_type": "stream",
     "text": [
      "Enter the city AGRA\n"
     ]
    },
    {
     "name": "stdout",
     "output_type": "stream",
     "text": [
      "The Monument in the city is Taj Mahal\n"
     ]
    }
   ],
   "source": [
    "city = (input(\"Enter the city\"))\n",
    "city = city.lower()\n",
    "Mounument ={\"delhi\" :\"Red Fort\", \"agra\" :\"Taj Mahal\",\"jaipur\":\"Jal Mahal\"}\n",
    "ans = Mounument.get(city)\n",
    "if ans != None:\n",
    "    print(\"The Monument in the city is {}\".format(ans))\n",
    "else:\n",
    "    print(\"City does not exists in the list\")\n",
    "    "
   ]
  },
  {
   "cell_type": "markdown",
   "id": "4003687c-9885-4602-8b22-b699ebc1188e",
   "metadata": {},
   "source": [
    "# Question 6\n",
    "### Check how many times a given number can be divided by 3 before it is less than or equal to 10."
   ]
  },
  {
   "cell_type": "code",
   "execution_count": 53,
   "id": "6a63b126-f8f2-453c-be76-1a70122cc1ed",
   "metadata": {},
   "outputs": [
    {
     "name": "stdin",
     "output_type": "stream",
     "text": [
      "Enter the given number 3486784401\n"
     ]
    },
    {
     "name": "stdout",
     "output_type": "stream",
     "text": [
      "The given Number is divisible by 3  is 18\n"
     ]
    }
   ],
   "source": [
    "num = int(input(\"Enter the given number\"))\n",
    "count = 0\n",
    "while num%3 == 0:\n",
    "    num = num/3\n",
    "    count= count +1\n",
    "    if num <=10:\n",
    "        break\n",
    "print(\"The given Number is divisible by 3  is {}\".format(count))\n",
    "                \n",
    "    "
   ]
  },
  {
   "cell_type": "markdown",
   "id": "326f5654-761c-4599-8df7-08ca1aaa65a9",
   "metadata": {},
   "source": [
    "# Question 7\n",
    "#### Why and When to Use while Loop in Python give a detailed description with example\n",
    "# Answer 7\n",
    "#### while loop is used when we are not sure about how many times loops is going to execute but we know the condiotion that must be satisfied\n",
    "#### A \"While\" Loop is used to repeat a specific block of code an unknown number of times, until a condition is met. For example, if we want to ask a user for a number between 1 and 10, we don't know how many times the user may enter a larger number, so we keep asking \"while the number is not between 1 and 10\"."
   ]
  },
  {
   "cell_type": "code",
   "execution_count": 10,
   "id": "a1691447-118e-4720-80c5-aa701bd151db",
   "metadata": {},
   "outputs": [
    {
     "name": "stdin",
     "output_type": "stream",
     "text": [
      "Enter a number between 1 to 10 12\n"
     ]
    },
    {
     "name": "stdout",
     "output_type": "stream",
     "text": [
      "please enter the number again\n"
     ]
    },
    {
     "name": "stdin",
     "output_type": "stream",
     "text": [
      "Enter a number between 1 to 10 11\n"
     ]
    },
    {
     "name": "stdout",
     "output_type": "stream",
     "text": [
      "please enter the number again\n"
     ]
    },
    {
     "name": "stdin",
     "output_type": "stream",
     "text": [
      "Enter a number between 1 to 10 56\n"
     ]
    },
    {
     "name": "stdout",
     "output_type": "stream",
     "text": [
      "please enter the number again\n"
     ]
    },
    {
     "name": "stdin",
     "output_type": "stream",
     "text": [
      "Enter a number between 1 to 10 8\n"
     ]
    },
    {
     "name": "stdout",
     "output_type": "stream",
     "text": [
      "You have entered corret number:  8\n"
     ]
    }
   ],
   "source": [
    "while True :\n",
    "    num = int(input(\"Enter a number between 1 to 10\"))\n",
    "    if num < 1 or num >10: \n",
    "        print(\"please enter the number again\")\n",
    "    else:\n",
    "        print(\"You have entered corret number: {}\".format(num))\n",
    "        break\n",
    "        \n"
   ]
  },
  {
   "cell_type": "markdown",
   "id": "98f23bcd-57a7-4e6c-b30e-435fe2b9f42b",
   "metadata": {},
   "source": [
    "# Question 8\n",
    "#### Use nested while loop to print 3 pattern "
   ]
  },
  {
   "cell_type": "code",
   "execution_count": 15,
   "id": "b74c2d09-9791-4275-82e7-972ed7a02d84",
   "metadata": {},
   "outputs": [
    {
     "name": "stdout",
     "output_type": "stream",
     "text": [
      "*   \n",
      "\n",
      "*  *   \n",
      "\n",
      "*  *  *   \n",
      "\n",
      "*  *  *  *   \n",
      "\n",
      "*  *  *  *  *   \n",
      "\n"
     ]
    }
   ],
   "source": [
    "i = 1 \n",
    "while i <= 5:\n",
    "    j = 1\n",
    "    while j<=i:\n",
    "        print(\"*  \", end= \"\")\n",
    "        j = j+1\n",
    "    print(\" \\n\")\n",
    "    i = i+1 \n"
   ]
  },
  {
   "cell_type": "code",
   "execution_count": 17,
   "id": "b737bb2c-9e65-40e0-98d9-6b0bd2061561",
   "metadata": {},
   "outputs": [
    {
     "name": "stdout",
     "output_type": "stream",
     "text": [
      "*  *  *  *  *   \n",
      "\n",
      "*  *  *  *   \n",
      "\n",
      "*  *  *   \n",
      "\n",
      "*  *   \n",
      "\n",
      "*   \n",
      "\n"
     ]
    }
   ],
   "source": [
    "i = 1 \n",
    "while i <= 5:\n",
    "    j = 5\n",
    "    while j>=i:\n",
    "        print(\"*  \", end= \"\")\n",
    "        j = j-1\n",
    "    print(\" \\n\")\n",
    "    i = i+1 "
   ]
  },
  {
   "cell_type": "code",
   "execution_count": 27,
   "id": "b6410646-9380-43dd-b1bf-fde5650b5c28",
   "metadata": {},
   "outputs": [
    {
     "name": "stdout",
     "output_type": "stream",
     "text": [
      "        *  \n",
      "\n",
      "      * *  \n",
      "\n",
      "    * * *  \n",
      "\n",
      "  * * * *  \n",
      "\n",
      "* * * * *  \n",
      "\n"
     ]
    }
   ],
   "source": [
    "i = 1 \n",
    "while i <= 5:\n",
    "    j = 1\n",
    "    while j<= 5-i  :\n",
    "        print(\"  \", end= \"\")\n",
    "        j = j+1\n",
    "    j = 1\n",
    "    while j<=i:\n",
    "        print(\"* \", end = \"\")\n",
    "        j=j+1\n",
    "    print(\" \\n\")\n",
    "    i = i+1 \n"
   ]
  },
  {
   "cell_type": "code",
   "execution_count": 2,
   "id": "4a30cd0e-8406-4878-85ee-0ed874b2420d",
   "metadata": {},
   "outputs": [
    {
     "name": "stdout",
     "output_type": "stream",
     "text": [
      "10\n",
      "9\n",
      "8\n",
      "7\n",
      "6\n",
      "5\n",
      "4\n",
      "3\n",
      "2\n",
      "1\n"
     ]
    }
   ],
   "source": [
    "i = 10\n",
    "while i >= 1:\n",
    "    print(i)\n",
    "    i= i-1\n",
    "    "
   ]
  },
  {
   "cell_type": "code",
   "execution_count": null,
   "id": "d05ab9d8-62bb-4025-8e41-f6f63bcca1b4",
   "metadata": {},
   "outputs": [],
   "source": []
  }
 ],
 "metadata": {
  "kernelspec": {
   "display_name": "Python 3 (ipykernel)",
   "language": "python",
   "name": "python3"
  },
  "language_info": {
   "codemirror_mode": {
    "name": "ipython",
    "version": 3
   },
   "file_extension": ".py",
   "mimetype": "text/x-python",
   "name": "python",
   "nbconvert_exporter": "python",
   "pygments_lexer": "ipython3",
   "version": "3.10.8"
  }
 },
 "nbformat": 4,
 "nbformat_minor": 5
}
