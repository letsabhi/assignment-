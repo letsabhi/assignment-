{
 "cells": [
  {
   "cell_type": "markdown",
   "id": "5ca7afc4-86a2-4ef3-a57f-9a38aca97785",
   "metadata": {},
   "source": [
    "#### Q1. What is multiprocessing in python? Why is it useful?"
   ]
  },
  {
   "cell_type": "markdown",
   "id": "8430c848-00a3-4ca6-b668-36890560f6c2",
   "metadata": {},
   "source": [
    "#### Multiprocessing is the ability of the system to run one or more processes in parallel. In simple words, multiprocessing uses the two or more CPU within the single computer system. This method is also capable to allocate the tasks between more than one process. \n",
    "* Processing units share the main memory and peripherals to process programs simultaneously. Multiprocessing Application breaks into smaller parts and runs independently. Each process is allocated to the processor by the operating system.\n",
    "\n",
    "* Python provides the built-in package called multiprocessing which supports swapping processes. Before working with the multiprocessing, we must aware with the process object.\n",
    "\n",
    "#### Multiprocessing is essential to perform the multiple tasks within the Computer system. Suppose a computer without multiprocessing or single processor. We assign various processes to that system at the same time.\n",
    "\n",
    "* It will then have to interrupt the previous task and move to another to keep all processes going. It is as simple as a chef is working alone in the kitchen. He has to do several tasks to cook food such as cutting, cleaning, cooking, kneading dough, baking, etc.\n",
    "\n",
    "* Therefore, multiprocessing is essential to perform several task at the same time without interruption. It also makes easy to track all the tasks. That is why the concept of multiprocessing is to arise.\n",
    "\n",
    "* Multiprocessing can be represented as a computer with more than one central processor.\n",
    "* A Multi-core processor refers to single computing component with two or more independent units.\n",
    "* In the multiprocessing, the CPU can assign multiple tasks at one each task has its own processor."
   ]
  },
  {
   "cell_type": "markdown",
   "id": "08f0cbfd-277f-4ed9-88a9-db42033149b9",
   "metadata": {},
   "source": [
    "#### Q2. What are the differences between multiprocessing and multithreading?"
   ]
  },
  {
   "cell_type": "markdown",
   "id": "3ebede45-e100-4226-9547-69c11362d98a",
   "metadata": {},
   "source": [
    "#### By formal definition, multithreading refers to the ability of a processor to execute multiple threads concurrently, where each thread runs a process. Whereas multiprocessing refers to the ability of a system to run multiple processors in parallel, where each processor can run one or more threads."
   ]
  },
  {
   "cell_type": "markdown",
   "id": "9f6723aa-0ecf-461a-b966-5180bb6b9648",
   "metadata": {},
   "source": [
    "#### Q3. Write a python code to create a process using the multiprocessing module."
   ]
  },
  {
   "cell_type": "code",
   "execution_count": 11,
   "id": "8eac340a-5a20-432e-b4f6-b7427bd1c8a7",
   "metadata": {},
   "outputs": [
    {
     "name": "stdout",
     "output_type": "stream",
     "text": [
      "This is the main function\n",
      "This program belong to test\n",
      "This is my test Program\n"
     ]
    }
   ],
   "source": [
    "import multiprocessing\n",
    "import time\n",
    "def test():\n",
    "    time.sleep(3)\n",
    "    print(\"This is my test Program\")\n",
    "\n",
    "def  test1():\n",
    "    time.sleep(2)\n",
    "    print(\"This program belong to test1l;l\")\n",
    "\n",
    "if __name__ == \"__main__\":\n",
    "    m=multiprocessing.Process(target = test)\n",
    "    m1=multiprocessing.Process(target = test1)\n",
    "    time.sleep(3)\n",
    "    print(\"This is the main function\")\n",
    "    m.start()\n",
    "    m1.start()\n",
    "    m.join()\n",
    "    m.join()\n",
    "    "
   ]
  },
  {
   "cell_type": "markdown",
   "id": "d2b7f1d5-c19a-4273-9831-bed8d761b61f",
   "metadata": {},
   "source": [
    "#### Q4. What is a multiprocessing pool in python? Why is it used?"
   ]
  },
  {
   "cell_type": "markdown",
   "id": "ebe6d4cd-e782-48fb-8bb7-f81d865cfa3d",
   "metadata": {
    "tags": []
   },
   "source": [
    "#### The multiprocessing module also introduces APIs which do not have analogs in the threading module. A prime example of this is the Pool object which offers a convenient means of parallelizing the execution of a function across multiple input values, distributing the input data across processes (data parallelism). The following example demonstrates the common practice of defining such functions in a module so that child processes can successfully import that module. This basic example of data parallelism using Pool,"
   ]
  },
  {
   "cell_type": "markdown",
   "id": "062db22e-c5df-4444-a191-914f8218650f",
   "metadata": {},
   "source": [
    "#### How can we create a pool of worker processes in python How can we create a pool of worker processes in python using the multiprocessing module?"
   ]
  },
  {
   "cell_type": "markdown",
   "id": "d8cbf041-4a08-4390-9104-8dbfa89b382f",
   "metadata": {},
   "source": [
    "#### The Pool class represents a pool of worker processes. It has methods which allows tasks to be offloaded to the worker processes in a few different ways."
   ]
  },
  {
   "cell_type": "code",
   "execution_count": 7,
   "id": "c09ead48-2a5a-4a0b-acd7-6ad077ff7099",
   "metadata": {},
   "outputs": [
    {
     "name": "stdout",
     "output_type": "stream",
     "text": [
      "[1, 4, 9, 16, 25]\n"
     ]
    }
   ],
   "source": [
    "from multiprocessing import Pool\n",
    "def square(x):\n",
    "    return (x*x)\n",
    "\n",
    "if __name__==\"__main__\":\n",
    "    with Pool(5) as p:\n",
    "        print(p.map(square, [1,2,3,4,5]))"
   ]
  },
  {
   "cell_type": "markdown",
   "id": "98f3aca8-1c2a-4053-b063-27905e7ffb17",
   "metadata": {},
   "source": [
    "#### Q6. Write a python program to create 4 processes, each process should print a different number using the multiprocessing module in python."
   ]
  },
  {
   "cell_type": "code",
   "execution_count": 10,
   "id": "b93e6d19-8a5c-4b56-b1d1-aa3e8fdcccf6",
   "metadata": {},
   "outputs": [
    {
     "name": "stdout",
     "output_type": "stream",
     "text": [
      "[0, 1, 8, 27, 64, 125, 216, 343, 512, 729]\n"
     ]
    }
   ],
   "source": [
    "def f(x):\n",
    "    return x**3\n",
    "\n",
    "if __name__ == '__main__':\n",
    "    # start 4 worker processes\n",
    "    with Pool(processes=4) as pool:\n",
    "\n",
    "        # print \"[0, 1, 4,..., 81]\"\n",
    "        print(pool.map(f, range(10)))"
   ]
  },
  {
   "cell_type": "code",
   "execution_count": null,
   "id": "76b8b634-bbc2-4cd0-9eac-d9fc532a9305",
   "metadata": {},
   "outputs": [],
   "source": []
  }
 ],
 "metadata": {
  "kernelspec": {
   "display_name": "Python 3 (ipykernel)",
   "language": "python",
   "name": "python3"
  },
  "language_info": {
   "codemirror_mode": {
    "name": "ipython",
    "version": 3
   },
   "file_extension": ".py",
   "mimetype": "text/x-python",
   "name": "python",
   "nbconvert_exporter": "python",
   "pygments_lexer": "ipython3",
   "version": "3.10.8"
  }
 },
 "nbformat": 4,
 "nbformat_minor": 5
}
