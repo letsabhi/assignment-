{
 "cells": [
  {
   "cell_type": "markdown",
   "id": "200003b6-de14-4de1-a227-40f6561ae0d1",
   "metadata": {},
   "source": [
    "# Question 1 \n",
    "## Who developed pyhton programming language \n",
    "## Guido van Rossum developed Pyhton programming language "
   ]
  },
  {
   "cell_type": "markdown",
   "id": "2339c319-fe8e-4ad1-a025-937d3a5c67a8",
   "metadata": {},
   "source": [
    "# Question 2\n",
    "## what type of programmng language supported by the python \n",
    "# Answer\n",
    "## Pythin support Oject Oriented Programming \n"
   ]
  },
  {
   "cell_type": "markdown",
   "id": "cb5cbd02-c162-4abd-b7b9-bb5ddde86261",
   "metadata": {},
   "source": [
    "# Question 3\n",
    "#### Is Python is case sensitive delaing with the pointer \n",
    "#### Python is case sesitive language "
   ]
  },
  {
   "cell_type": "code",
   "execution_count": null,
   "id": "69351a4c-0fd1-4694-90a2-02cf51a48226",
   "metadata": {},
   "outputs": [],
   "source": [
    "var = \"lower case\""
   ]
  },
  {
   "cell_type": "code",
   "execution_count": 7,
   "id": "e986eec6-eabc-42d8-8e0f-cf3b729c3a1d",
   "metadata": {},
   "outputs": [],
   "source": [
    "Var = \"Capital case\""
   ]
  },
  {
   "cell_type": "code",
   "execution_count": 8,
   "id": "6879b53b-b476-4b7c-b37c-bace5dd2cb7e",
   "metadata": {},
   "outputs": [
    {
     "data": {
      "text/plain": [
       "'lower case'"
      ]
     },
     "execution_count": 8,
     "metadata": {},
     "output_type": "execute_result"
    }
   ],
   "source": [
    "var"
   ]
  },
  {
   "cell_type": "code",
   "execution_count": 9,
   "id": "c1248811-ee70-4975-877e-7901f0d5c56a",
   "metadata": {},
   "outputs": [
    {
     "data": {
      "text/plain": [
       "'Capital case'"
      ]
     },
     "execution_count": 9,
     "metadata": {},
     "output_type": "execute_result"
    }
   ],
   "source": [
    "Var"
   ]
  },
  {
   "cell_type": "markdown",
   "id": "e696039e-01c3-4151-a62c-c9f17b41cfcf",
   "metadata": {},
   "source": [
    "##Question 4\n",
    "### What is the extension of the python file\n",
    "## Answer 4\n",
    "#### The .py, .pyc, .pyo and .pyd files have their own significance when it comes to executing python programs. The are used for −\n",
    "    *.py: The input source code that you've written.\n",
    "    *.pyc: The compiled bytecode. If you import a module, python will build a *.pyc file that contains the bytecode to make importing it again later easier (and faster).\n",
    "    *.pyo: A *.pyc file that was created while optimizations (-O) was on.\n",
    "    *.pyd: A windows dll file for Python."
   ]
  },
  {
   "cell_type": "markdown",
   "id": "32ca48a1-9c34-4c1c-be0c-f925dd237d68",
   "metadata": {},
   "source": [
    "## Question 5\n",
    "### Python code are compiled or interpretated?\n",
    "## Answer 5\n",
    "### Python code are interpretated"
   ]
  },
  {
   "cell_type": "markdown",
   "id": "c1ab6917-d428-45c9-9291-5932fda913aa",
   "metadata": {},
   "source": [
    "## Questin 6\n",
    "### Name the blocks of code define the python code \n",
    "## Answer 6\n",
    "#### Structure of a program. A Python program is constructed from code blocks. A block is a piece of Python program text that is executed as a unit. The following are blocks: a module, a function body, and a class definition."
   ]
  },
  {
   "cell_type": "markdown",
   "id": "5b8eb499-aded-47ef-9c38-6c7f915a933b",
   "metadata": {},
   "source": [
    "# Question 7.\n",
    "### State a character used to give single-line comments in Python?\n",
    "# Answer 7 \n",
    "# #is used to define single line comment\n"
   ]
  },
  {
   "cell_type": "markdown",
   "id": "d87ccc52-8da7-43aa-847f-41c6a7455f1d",
   "metadata": {},
   "source": [
    "# Question 8.\t\tMention functions which can help us to find the version of python that we are currently working on?\n",
    "\t\t\n",
    "\n",
    "# Answer 8\n",
    "\n",
    "### Using python_version() function: The python_version() function always returns the version of an interpreter in the string format.\n",
    "\t\t"
   ]
  },
  {
   "cell_type": "code",
   "execution_count": 26,
   "id": "f6dd46ce-f290-4423-bba8-1ca6fd0f18d4",
   "metadata": {},
   "outputs": [
    {
     "data": {
      "text/plain": [
       "'3.10.8'"
      ]
     },
     "execution_count": 26,
     "metadata": {},
     "output_type": "execute_result"
    }
   ],
   "source": [
    "from platform import python_version  \n",
    "python_version()\n"
   ]
  },
  {
   "cell_type": "markdown",
   "id": "558f1ee5-b8de-4d01-afb7-91b12fae4f25",
   "metadata": {},
   "source": [
    "# Question 9.\t\t\n",
    "# Python supports the creation of anonymous functions at runtime, using a construct called lambada"
   ]
  },
  {
   "cell_type": "markdown",
   "id": "f27cafd9-de4c-4315-a73c-a3e6f39bcc9e",
   "metadata": {},
   "source": [
    "# Question 10.\t\n",
    "#### What does pip stand for python?\n",
    "# Answer \n",
    "#### PIP is a package manager for Python packages, or modules if you like. Note: If you have Python version 3.4 or later, PIP is included by default.\n"
   ]
  },
  {
   "cell_type": "markdown",
   "id": "86039c3e-a17a-43c4-8cb1-4c7db85571b1",
   "metadata": {},
   "source": [
    "# Question 11.\t\n",
    "#### Mention a few built-in functions in python?\n",
    "# Answer 11\n",
    "#### The few built in function in python print(), input(), type()\n"
   ]
  },
  {
   "cell_type": "markdown",
   "id": "f84b7897-97ee-4ee9-890d-bcc3d25a24f3",
   "metadata": {},
   "source": [
    "# Question 12.\t\n",
    "#### What is the maximum possible length of an identifier in Python?\n",
    "# Answer 12 \n",
    "#### An identifier can have a maximum length of 79 characters in Python.\n"
   ]
  },
  {
   "cell_type": "markdown",
   "id": "19285963-157b-474d-b530-9b41668455aa",
   "metadata": {},
   "source": [
    "#Question 13.\t\n",
    "#### What are the benefits of using Python?\n",
    "# Answer 13\n",
    "#### The benifits of python is \n",
    "        * Simple to Use and Understand\n",
    "\t\t* Open Source \n",
    "\t\t* Productivity has Increased\n",
    "\t\t* Interpreted Language\n",
    "\t\t* Extensive library\n",
    "\t\t* Dynamically Typed\n",
    "\t\t* Portability\n"
   ]
  },
  {
   "cell_type": "markdown",
   "id": "90063456-af08-4ec2-b3c0-bf45143029a9",
   "metadata": {},
   "source": [
    "# Question 14.\t\n",
    "#### How is memory managed in Python?\n",
    "# Answer 14\n",
    "#### Overview. Memory management in Python involves a private heap containing all Python objects and data structures. The management of this private heap is ensured internally by the Python memory manager.\n",
    "\n"
   ]
  },
  {
   "cell_type": "markdown",
   "id": "4dad03fd-6b17-47e7-8811-8ee4b6f24b29",
   "metadata": {},
   "source": [
    "# Question 15.\t\n",
    "#### How to Install Python on Windows and! set path variables?\n",
    "# Answer 15 \n",
    "#### The complete path of python.exe can be added by:\n",
    "* Right-clicking This PC and going to Properties.\n",
    "* Clicking on the Advanced system settings in the menu on the left.\n",
    "* Clicking on the Environment Variables button on the bottom right.\n",
    "* In the System variables section, selecting the Path variable and clicking on Edit. The next screen will show all the directories that are currently a part of the PATH variable.\n",
    "* Clicking on New and entering Python’s install directory.\n"
   ]
  },
  {
   "cell_type": "markdown",
   "id": "a4047160-2e20-4e98-8749-21157beb337b",
   "metadata": {},
   "source": [
    "# Question 16.\t\n",
    "#### Is indentation required In python?\n",
    "# Answer 16\n",
    "#### Indentation is important to Python, because it's how you determine scope. Scope is how Python knows what code belongs to what part of the program.\n"
   ]
  },
  {
   "cell_type": "code",
   "execution_count": null,
   "id": "3d6eab7b-75b6-4a1f-9013-864d7502a609",
   "metadata": {},
   "outputs": [],
   "source": []
  }
 ],
 "metadata": {
  "kernelspec": {
   "display_name": "Python 3 (ipykernel)",
   "language": "python",
   "name": "python3"
  },
  "language_info": {
   "codemirror_mode": {
    "name": "ipython",
    "version": 3
   },
   "file_extension": ".py",
   "mimetype": "text/x-python",
   "name": "python",
   "nbconvert_exporter": "python",
   "pygments_lexer": "ipython3",
   "version": "3.10.8"
  }
 },
 "nbformat": 4,
 "nbformat_minor": 5
}
