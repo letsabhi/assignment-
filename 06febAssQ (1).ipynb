{
 "cells": [
  {
   "cell_type": "markdown",
   "id": "8b067b2b-c212-4dfb-ab62-d45869093368",
   "metadata": {},
   "source": [
    "# Question 1    \n",
    "## Q1. Create a function which will take a list as an argument and return the product of all the numbers after creating a flat list. Use the below-given list as an argument for your function."
   ]
  },
  {
   "cell_type": "markdown",
   "id": "dee3fdb7-65e6-4914-9256-4e55f5372081",
   "metadata": {},
   "source": [
    "list1 = [1,2,3,4, [44,55,66, True], False, (34,56,78,89,34), {1,2,3,3,2,1}, {1:34, \"key2\": [55, 67, 78, 89], 4: (45,\n",
    "22, 61, 34)}, [56, 'data science'], 'Machine Learning']\n"
   ]
  },
  {
   "cell_type": "markdown",
   "id": "09ba52d1-81c3-462c-8078-d62e9ced141e",
   "metadata": {},
   "source": [
    "def multi(L):\n",
    "    flat_list = []\n",
    "    multi = 1\n",
    "    for i in L:\n",
    "        if type(i) == int:\n",
    "            flat_list.append(i)\n",
    "            #multi = multi*i\n",
    "        elif type(i) == list:\n",
    "            for j in i:\n",
    "                if type(j) == int:\n",
    "                    flat_list.append(j)\n",
    "                    #multi = multi*j\n",
    "        elif type(i) == tuple:\n",
    "            for j in i:\n",
    "                if type(j) == int:\n",
    "                    flat_list.append(j)\n",
    "                    #multi = multi*j\n",
    "        elif type(i) ==set:\n",
    "            for j in i:\n",
    "                if type(j) == int:\n",
    "                    flat_list.append(j)\n",
    "                    #multi = multi*j\n",
    "        elif type(i) ==dict:\n",
    "            for j in d.values():\n",
    "                if type(j) == int:\n",
    "                    flat_list.append(j)\n",
    "                    #multi = multi*j\n",
    "                elif type(j) == list:\n",
    "                    for k in j:\n",
    "                        flat_list.append(k)\n",
    "                        #multi = multi*k\n",
    "                elif type(j) == tuple:\n",
    "                    for k in j:\n",
    "                        flat_list.append(k)\n",
    "                        #multi = multi*k\n",
    "\n",
    "    print(multi)         \n",
    "    print(flat_list)\n",
    "    multi = 1\n",
    "    for i in flat_list:\n",
    "        multi = multi*i \n",
    "    print(multi)  \n",
    "\n",
    "multi(list1)\n",
    "\n",
    "        \n"
   ]
  },
  {
   "cell_type": "markdown",
   "id": "f5df9116-3351-4041-ab40-5679245fafa4",
   "metadata": {},
   "source": [
    "# Question 2\n",
    "#### Write a python program for encrypting a message sent to you by your friend. The logic of encryption should be such that, for a the output should be z. For b, the output should be y. For c, the output should be x respectively. Also, the whitespace should be replaced with a dollar sign. Keep the punctuation marks unchanged."
   ]
  },
  {
   "cell_type": "code",
   "execution_count": 77,
   "id": "129288a3-0280-4673-9a9a-d502d88945de",
   "metadata": {},
   "outputs": [],
   "source": [
    "encrypt = {'a':'z' ,\n",
    "'b':'y' ,\n",
    "'c':'x' ,\n",
    "'d':'w',\n",
    "'e':'v',\n",
    "'f':'u',\n",
    "'g':'t',\n",
    "'h':'s',\n",
    "'i':'r',\n",
    "'j':'q',\n",
    "'k':'p',\n",
    "'l':'o',\n",
    "'m':'n',\n",
    "'n':'m',\n",
    "'o':'l',\n",
    "'p':'k',\n",
    "'q':'j',\n",
    "'r':'i',\n",
    "'s':'h',\n",
    "'t':'g',\n",
    "'u':'f',\n",
    "'v':'e',\n",
    "'w':'d',\n",
    "'x':'c',\n",
    "'y':'b',\n",
    "'z':'a',\n",
    "'A':'Z',\n",
    "'B':'Y',\n",
    "'C':'X',\n",
    "'D':'W',\n",
    "'E':'V',\n",
    "'F':'U',\n",
    "'G':'T',\n",
    "'H':'S',\n",
    "'I':'R',\n",
    "'J':'Q',\n",
    "'K':'P',\n",
    "'L':'O',\n",
    "'M':'N',\n",
    "'N':'M',\n",
    "'O':'L',\n",
    "'P':'K',\n",
    "'Q':'J',\n",
    "'R':'I',\n",
    "'S':'H',\n",
    "'T':'G',\n",
    "'U':'F',\n",
    "'V':'E',\n",
    "'W':'D',\n",
    "'X':'C',\n",
    "'Y':'B',\n",
    "'Z':'A',\n",
    " \" \": '$'}\n",
    "\n"
   ]
  },
  {
   "cell_type": "code",
   "execution_count": 80,
   "id": "779ee990-33f5-4b03-bfac-cd415f59ef8e",
   "metadata": {},
   "outputs": [
    {
     "name": "stdout",
     "output_type": "stream",
     "text": [
      "R$dzmg$gl$yvxlnv$z$Wzgz$Hxrvmgrhg.\n"
     ]
    }
   ],
   "source": [
    "def encry(s):\n",
    "    encr_str =''\n",
    "    for i in s:\n",
    "        if encrypt.get(i) != None:\n",
    "            encr_str = encr_str+ encrypt.get(i)\n",
    "        else:\n",
    "            encr_str = encr_str+ i\n",
    "    print(encr_str)\n",
    "encry(\"I want to become a Data Scientist.\")\n",
    "    "
   ]
  },
  {
   "cell_type": "code",
   "execution_count": null,
   "id": "429c2975-f859-45e2-96f6-63ab79218df9",
   "metadata": {},
   "outputs": [],
   "source": []
  }
 ],
 "metadata": {
  "kernelspec": {
   "display_name": "Python 3 (ipykernel)",
   "language": "python",
   "name": "python3"
  },
  "language_info": {
   "codemirror_mode": {
    "name": "ipython",
    "version": 3
   },
   "file_extension": ".py",
   "mimetype": "text/x-python",
   "name": "python",
   "nbconvert_exporter": "python",
   "pygments_lexer": "ipython3",
   "version": "3.10.8"
  }
 },
 "nbformat": 4,
 "nbformat_minor": 5
}
