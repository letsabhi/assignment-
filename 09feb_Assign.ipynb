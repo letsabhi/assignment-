{
 "cells": [
  {
   "cell_type": "markdown",
   "id": "18ec4d67-fde0-4180-837a-8299a75f6ce5",
   "metadata": {},
   "source": [
    "# Q1, Create a vehicle class with an init method having instance variables as name_of_vehicle, max_speed and average_of_vehicle."
   ]
  },
  {
   "cell_type": "code",
   "execution_count": 4,
   "id": "197912d0-f2dc-493e-9f0c-e52221e96740",
   "metadata": {},
   "outputs": [
    {
     "name": "stdout",
     "output_type": "stream",
     "text": [
      "maruti\n",
      "100\n",
      "18\n"
     ]
    }
   ],
   "source": [
    "class vehical:\n",
    "    def __init__(self, name,speed, avg):\n",
    "        self.name_of_vehical = name\n",
    "        self.max_speed = speed\n",
    "        self.average_of_vehical= avg\n",
    "\n",
    "\n",
    "    def print(self):\n",
    "        print(self.name_of_vehical)\n",
    "        print(self.max_speed)\n",
    "        print(self.average_of_vehical)\n",
    "\n",
    "car1 = vehical(\"maruti\", 100, 18)\n",
    "car1.print()"
   ]
  },
  {
   "cell_type": "markdown",
   "id": "b402ac56-d6ba-4182-ab5d-ae318be86925",
   "metadata": {},
   "source": [
    "#### Q2. Create a child class car from the vehicle class created in Que 1, which will inherit the vehicle class. Create a method named seating_capacity which takes capacity as an argument and returns the name of the vehicle and its seating capacity."
   ]
  },
  {
   "cell_type": "code",
   "execution_count": 24,
   "id": "e4000a2c-1b32-468f-bf17-bf3e2fbe2dfb",
   "metadata": {},
   "outputs": [],
   "source": [
    "class car(vehical):\n",
    "    def seating_capacity(self, capacity):\n",
    "        self.capacity = capacity\n",
    "        return  self.name_of_vehical,self.capacity\n"
   ]
  },
  {
   "cell_type": "code",
   "execution_count": 26,
   "id": "3d87915f-7acc-41c6-ac4b-973169e43dc0",
   "metadata": {},
   "outputs": [],
   "source": [
    "car2 = car(\"Inova\", 200, 15)"
   ]
  },
  {
   "cell_type": "code",
   "execution_count": 25,
   "id": "e52082a2-b718-4375-97ec-82628eea8626",
   "metadata": {},
   "outputs": [
    {
     "name": "stdout",
     "output_type": "stream",
     "text": [
      "Inova\n",
      "200\n",
      "15\n"
     ]
    }
   ],
   "source": [
    "car2.print()"
   ]
  },
  {
   "cell_type": "code",
   "execution_count": 27,
   "id": "f4810163-4686-48e7-b2c9-8ee7d0261a24",
   "metadata": {},
   "outputs": [
    {
     "data": {
      "text/plain": [
       "('Inova', 7)"
      ]
     },
     "execution_count": 27,
     "metadata": {},
     "output_type": "execute_result"
    }
   ],
   "source": [
    "car2.seating_capacity(7)"
   ]
  },
  {
   "cell_type": "markdown",
   "id": "6256d408-dcb3-403c-8247-cae68f02f166",
   "metadata": {},
   "source": [
    "## Q3. What is multiple inheritance? Write a python code to demonstrate multiple inheritance."
   ]
  },
  {
   "cell_type": "code",
   "execution_count": 5,
   "id": "4bf48c2c-d0f8-45ab-88a3-905f3b071056",
   "metadata": {},
   "outputs": [
    {
     "name": "stdout",
     "output_type": "stream",
     "text": [
      "The functon of test1\n",
      "the function of test2\n",
      "The function belong to test3\n"
     ]
    }
   ],
   "source": [
    "class test1:\n",
    "    def func1(self):\n",
    "        print(\"The functon of test1\")\n",
    "\n",
    "class test2:\n",
    "    def func2(self):\n",
    "        print(\"The function of test2\")\n",
    "\n",
    "class test3(test1, test2):\n",
    "    def func3(self):\n",
    "        print(\"The function belong to test3\")\n",
    "t = test3()\n",
    "t.func1()\n",
    "t.func2()\n",
    "t.func3()"
   ]
  },
  {
   "cell_type": "code",
   "execution_count": 10,
   "id": "4c634b4c-04e3-4978-b1c0-893119913487",
   "metadata": {},
   "outputs": [
    {
     "data": {
      "text/plain": [
       "43"
      ]
     },
     "execution_count": 10,
     "metadata": {},
     "output_type": "execute_result"
    }
   ],
   "source": [
    "class person:\n",
    "    def __init__(self, name, age, job):\n",
    "        self.name = name\n",
    "        self.age = age\n",
    "        self.job= job\n",
    "p1 = person(\"Madhu\", 43, \"HomeMaker\")\n",
    "getattr(p1, 'age')"
   ]
  },
  {
   "cell_type": "markdown",
   "id": "27ab280c-2e81-4917-ac22-5ad9416b0e55",
   "metadata": {},
   "source": [
    "### Q4. What are getter and setter in python? Create a class and create a getter and a setter method in this class."
   ]
  },
  {
   "cell_type": "code",
   "execution_count": 27,
   "id": "324254e2-fb2e-4003-9e79-3a1b510a5d4d",
   "metadata": {},
   "outputs": [
    {
     "name": "stdout",
     "output_type": "stream",
     "text": [
      "Navin\n"
     ]
    }
   ],
   "source": [
    "class person:\n",
    "    def __init__(self):\n",
    "        self.__name = None \n",
    "\n",
    "    def setname(self, name):\n",
    "        self.__name = name\n",
    "    def getname(self):\n",
    "        print(self.__name)\n",
    "        \n",
    "p1 = person()\n",
    "\n",
    "\n",
    "p1.setname(\"Navin\")\n",
    "p1.getname()\n",
    "    "
   ]
  },
  {
   "cell_type": "markdown",
   "id": "cb1d46bb-f2bd-4b99-b85b-55a3823e37d6",
   "metadata": {},
   "source": [
    "## Q5.What is method overriding in python? Write a python code to demonstrate method overriding."
   ]
  },
  {
   "cell_type": "code",
   "execution_count": 31,
   "id": "0ac0feec-ba14-49fd-ac13-12493102939e",
   "metadata": {},
   "outputs": [
    {
     "name": "stdout",
     "output_type": "stream",
     "text": [
      "This is the function of test\n",
      "This function is is of test1\n"
     ]
    }
   ],
   "source": [
    "class test:\n",
    "    def testfun(self):\n",
    "        print(\"This is the function of test\")\n",
    "class test1(test):\n",
    "    def testfun(self):\n",
    "        print(\"This function is of test1\")\n",
    "t1 = test()\n",
    "t2 = test1()\n",
    "t1.testfun()\n",
    "t2.testfun()"
   ]
  },
  {
   "cell_type": "code",
   "execution_count": null,
   "id": "0d9f767e-2d01-45e6-bbd3-86b590ca1485",
   "metadata": {},
   "outputs": [],
   "source": []
  }
 ],
 "metadata": {
  "kernelspec": {
   "display_name": "Python 3 (ipykernel)",
   "language": "python",
   "name": "python3"
  },
  "language_info": {
   "codemirror_mode": {
    "name": "ipython",
    "version": 3
   },
   "file_extension": ".py",
   "mimetype": "text/x-python",
   "name": "python",
   "nbconvert_exporter": "python",
   "pygments_lexer": "ipython3",
   "version": "3.10.8"
  }
 },
 "nbformat": 4,
 "nbformat_minor": 5
}
